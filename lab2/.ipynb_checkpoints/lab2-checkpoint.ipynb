{
 "cells": [
  {
   "cell_type": "markdown",
   "metadata": {},
   "source": [
    "# Metody oparte o sąsiedztwo"
   ]
  },
  {
   "cell_type": "markdown",
   "metadata": {},
   "source": [
    "## Konfiguracja"
   ]
  },
  {
   "cell_type": "markdown",
   "metadata": {},
   "source": [
    "Laboratorium składa się z 2 części:\n",
    "1. kNN w uczeniu nadzorowanym\n",
    "2. Wyszukiwanie\n",
    "\n",
    "W pierwszej części użyjemy standardowych bibliotek oraz dodatkowo:\n",
    "- `pynndescent` dla approximate nearest neighbors (ANN)\n",
    "- `pyarrow` do odczytu zbioru danych w formacie Parquet\n",
    "\n",
    "W drugiej części natomiast do wektoryzacji obiektów użyjemy stosu do uczenia głębokiego opartego o PyTorcha i torchvision. Dodatkowo użyjemy:\n",
    "- `sentence-transformers` - podobna do popularnej biblioteki Transformers, ale obsługuje głównie modele do uczenia nienadzorowanego, niewymagające fine-tuningu\n",
    "- `tqdm` dla wyświetlania progress bar\n",
    "\n",
    "**Uwaga:** trzeba użyć wersji Numpy'a 1.23.X, bo wersja 1.24 wprowadziła dużo breaking changes i inne biblioteki (np. PyNNDescent) jeszcze nie są zaktualizowane.\n",
    "\n",
    "PyTorcha i torchvision zainstaluj [w wersji odpowiedniej dla twojego systemu i środowiska](https://pytorch.org/get-started/locally/). GPU nie będzie nam potrzebne, ale możesz go użyć, jeżeli jest odpowiednio skonfigurowane."
   ]
  },
  {
   "cell_type": "code",
   "execution_count": 1,
   "metadata": {
    "scrolled": true
   },
   "outputs": [
    {
     "name": "stdout",
     "output_type": "stream",
     "text": [
      "/home/przemek/.local/lib/python3.8/site-packages/pkg_resources/__init__.py:116: PkgResourcesDeprecationWarning: 1.13.1-unknown is an invalid version and will not be supported in a future release\n",
      "  warnings.warn(\n",
      "/home/przemek/.local/lib/python3.8/site-packages/pkg_resources/__init__.py:116: PkgResourcesDeprecationWarning: 0.1.36ubuntu1 is an invalid version and will not be supported in a future release\n",
      "  warnings.warn(\n",
      "/home/przemek/.local/lib/python3.8/site-packages/pkg_resources/__init__.py:116: PkgResourcesDeprecationWarning: 0.23ubuntu1 is an invalid version and will not be supported in a future release\n",
      "  warnings.warn(\n",
      "Requirement already satisfied: numpy==1.23.5 in /home/przemek/.local/lib/python3.8/site-packages (1.23.5)\n",
      "Requirement already satisfied: pandas in /home/przemek/.local/lib/python3.8/site-packages (1.3.4)\n",
      "Requirement already satisfied: matplotlib in /home/przemek/.local/lib/python3.8/site-packages (3.5.0)\n",
      "Requirement already satisfied: scikit-learn in /home/przemek/.local/lib/python3.8/site-packages (1.1.3)\n",
      "Requirement already satisfied: missingno in /home/przemek/.local/lib/python3.8/site-packages (0.5.1)\n",
      "Requirement already satisfied: pyarrow in /home/przemek/.local/lib/python3.8/site-packages (10.0.1)\n",
      "Requirement already satisfied: pynndescent in /home/przemek/.local/lib/python3.8/site-packages (0.5.8)\n",
      "Requirement already satisfied: sentence-transformers in /home/przemek/.local/lib/python3.8/site-packages (2.2.2)\n",
      "Requirement already satisfied: tqdm in /home/przemek/.local/lib/python3.8/site-packages (4.62.3)\n",
      "Requirement already satisfied: python-dateutil>=2.7.3 in /home/przemek/.local/lib/python3.8/site-packages (from pandas) (2.8.2)\n",
      "Requirement already satisfied: pytz>=2017.3 in /home/przemek/.local/lib/python3.8/site-packages (from pandas) (2021.3)\n",
      "Requirement already satisfied: pillow>=6.2.0 in /home/przemek/.local/lib/python3.8/site-packages (from matplotlib) (8.4.0)\n",
      "Requirement already satisfied: setuptools-scm>=4 in /home/przemek/.local/lib/python3.8/site-packages (from matplotlib) (6.3.2)\n",
      "Requirement already satisfied: fonttools>=4.22.0 in /home/przemek/.local/lib/python3.8/site-packages (from matplotlib) (4.28.3)\n",
      "Requirement already satisfied: kiwisolver>=1.0.1 in /home/przemek/.local/lib/python3.8/site-packages (from matplotlib) (1.3.2)\n",
      "Requirement already satisfied: cycler>=0.10 in /home/przemek/.local/lib/python3.8/site-packages (from matplotlib) (0.11.0)\n",
      "Requirement already satisfied: pyparsing>=2.2.1 in /home/przemek/.local/lib/python3.8/site-packages (from matplotlib) (3.0.6)\n",
      "Requirement already satisfied: packaging>=20.0 in /home/przemek/.local/lib/python3.8/site-packages (from matplotlib) (23.0)\n",
      "Requirement already satisfied: joblib>=1.0.0 in /home/przemek/.local/lib/python3.8/site-packages (from scikit-learn) (1.1.0)\n",
      "Requirement already satisfied: threadpoolctl>=2.0.0 in /home/przemek/.local/lib/python3.8/site-packages (from scikit-learn) (3.0.0)\n",
      "Requirement already satisfied: scipy>=1.3.2 in /home/przemek/.local/lib/python3.8/site-packages (from scikit-learn) (1.7.3)\n",
      "Requirement already satisfied: seaborn in /home/przemek/.local/lib/python3.8/site-packages (from missingno) (0.11.2)\n",
      "Requirement already satisfied: llvmlite>=0.30 in /home/przemek/.local/lib/python3.8/site-packages (from pynndescent) (0.39.1)\n",
      "Requirement already satisfied: numba>=0.51.2 in /home/przemek/.local/lib/python3.8/site-packages (from pynndescent) (0.56.4)\n",
      "Requirement already satisfied: sentencepiece in /home/przemek/.local/lib/python3.8/site-packages (from sentence-transformers) (0.1.97)\n",
      "Requirement already satisfied: nltk in /home/przemek/.local/lib/python3.8/site-packages (from sentence-transformers) (3.7)\n",
      "Requirement already satisfied: torchvision in /home/przemek/.local/lib/python3.8/site-packages (from sentence-transformers) (0.14.1)\n",
      "Requirement already satisfied: transformers<5.0.0,>=4.6.0 in /home/przemek/.local/lib/python3.8/site-packages (from sentence-transformers) (4.25.1)\n",
      "Requirement already satisfied: torch>=1.6.0 in /home/przemek/.local/lib/python3.8/site-packages (from sentence-transformers) (1.13.1)\n",
      "Requirement already satisfied: huggingface-hub>=0.4.0 in /home/przemek/.local/lib/python3.8/site-packages (from sentence-transformers) (0.11.1)\n",
      "Requirement already satisfied: six>=1.5 in /home/przemek/.local/lib/python3.8/site-packages (from python-dateutil>=2.7.3->pandas) (1.16.0)\n",
      "Requirement already satisfied: setuptools in /home/przemek/.local/lib/python3.8/site-packages (from setuptools-scm>=4->matplotlib) (59.5.0)\n",
      "Requirement already satisfied: tomli>=1.0.0 in /home/przemek/.local/lib/python3.8/site-packages (from setuptools-scm>=4->matplotlib) (1.2.2)\n",
      "Requirement already satisfied: importlib-metadata; python_version < \"3.9\" in /home/przemek/.local/lib/python3.8/site-packages (from numba>=0.51.2->pynndescent) (4.8.2)\n",
      "Requirement already satisfied: regex>=2021.8.3 in /home/przemek/.local/lib/python3.8/site-packages (from nltk->sentence-transformers) (2021.11.10)\n",
      "Requirement already satisfied: click in /home/przemek/.local/lib/python3.8/site-packages (from nltk->sentence-transformers) (8.0.3)\n",
      "Requirement already satisfied: requests in /home/przemek/.local/lib/python3.8/site-packages (from torchvision->sentence-transformers) (2.26.0)\n",
      "Requirement already satisfied: typing-extensions in /home/przemek/.local/lib/python3.8/site-packages (from torchvision->sentence-transformers) (4.0.1)\n",
      "Requirement already satisfied: tokenizers!=0.11.3,<0.14,>=0.11.1 in /home/przemek/.local/lib/python3.8/site-packages (from transformers<5.0.0,>=4.6.0->sentence-transformers) (0.13.2)\n",
      "Requirement already satisfied: pyyaml>=5.1 in /home/przemek/.local/lib/python3.8/site-packages (from transformers<5.0.0,>=4.6.0->sentence-transformers) (6.0)\n",
      "Requirement already satisfied: filelock in /home/przemek/.local/lib/python3.8/site-packages (from transformers<5.0.0,>=4.6.0->sentence-transformers) (3.4.0)\n",
      "Requirement already satisfied: nvidia-cuda-runtime-cu11==11.7.99; platform_system == \"Linux\" in /home/przemek/.local/lib/python3.8/site-packages (from torch>=1.6.0->sentence-transformers) (11.7.99)\n",
      "Requirement already satisfied: nvidia-cuda-nvrtc-cu11==11.7.99; platform_system == \"Linux\" in /home/przemek/.local/lib/python3.8/site-packages (from torch>=1.6.0->sentence-transformers) (11.7.99)\n",
      "Requirement already satisfied: nvidia-cublas-cu11==11.10.3.66; platform_system == \"Linux\" in /home/przemek/.local/lib/python3.8/site-packages (from torch>=1.6.0->sentence-transformers) (11.10.3.66)\n",
      "Requirement already satisfied: nvidia-cudnn-cu11==8.5.0.96; platform_system == \"Linux\" in /home/przemek/.local/lib/python3.8/site-packages (from torch>=1.6.0->sentence-transformers) (8.5.0.96)\n",
      "Requirement already satisfied: zipp>=0.5 in /home/przemek/.local/lib/python3.8/site-packages (from importlib-metadata; python_version < \"3.9\"->numba>=0.51.2->pynndescent) (3.6.0)\n",
      "Requirement already satisfied: certifi>=2017.4.17 in /home/przemek/.local/lib/python3.8/site-packages (from requests->torchvision->sentence-transformers) (2021.10.8)\n",
      "Requirement already satisfied: idna<4,>=2.5; python_version >= \"3\" in /home/przemek/.local/lib/python3.8/site-packages (from requests->torchvision->sentence-transformers) (3.3)\n",
      "Requirement already satisfied: charset-normalizer~=2.0.0; python_version >= \"3\" in /home/przemek/.local/lib/python3.8/site-packages (from requests->torchvision->sentence-transformers) (2.0.9)\n",
      "Requirement already satisfied: urllib3<1.27,>=1.21.1 in /home/przemek/.local/lib/python3.8/site-packages (from requests->torchvision->sentence-transformers) (1.26.7)\n",
      "Requirement already satisfied: wheel in /home/przemek/.local/lib/python3.8/site-packages (from nvidia-cuda-runtime-cu11==11.7.99; platform_system == \"Linux\"->torch>=1.6.0->sentence-transformers) (0.37.0)\n"
     ]
    }
   ],
   "source": [
    "!pip install numpy==1.23.5 pandas matplotlib scikit-learn missingno pyarrow pynndescent sentence-transformers tqdm"
   ]
  },
  {
   "cell_type": "code",
   "execution_count": 2,
   "metadata": {
    "scrolled": true
   },
   "outputs": [],
   "source": [
    "# !pip install torch torchvision --extra-index-url https://download.pytorch.org/whl/cpu"
   ]
  },
  {
   "cell_type": "code",
   "execution_count": 3,
   "metadata": {},
   "outputs": [],
   "source": [
    "import matplotlib.pyplot as plt\n",
    "import numpy as np\n",
    "import pandas as pd"
   ]
  },
  {
   "cell_type": "markdown",
   "metadata": {},
   "source": [
    "## Zbiór danych - klasyfikacja danych numerycznych"
   ]
  },
  {
   "cell_type": "markdown",
   "metadata": {},
   "source": [
    "Wykorzystamy zbiór danych [Codon usage](https://archive.ics.uci.edu/ml/datasets/Codon+usage) z dziedziny bioinformatyki. Został on zaprezentowany w artykule ([link do wersji Open Access](https://www.nature.com/articles/s41598-023-28965-7):\n",
    "\n",
    "Hallee, Logan, and Bohdan B. Khomtchouk. *\"Machine learning classifiers predict key genomic and evolutionary traits across the kingdoms of life.\"* Scientific Reports 13.1 (2023): 2088. [link](https://www.nature.com/articles/s41598-023-28965-7)\n",
    "\n",
    "Autorzy wykonywali na nim wiele analiz, ale nas interesuje podstawowa - przewidywanie, z jakiego królestwa (kingdom) pochodzi komórka, na podstawie rozkładu kodonów w jej sekwencjonowanym RNA. Analiza DNA oraz RNA jest podstawowym zadaniem bioinformatyki. Kodony (codons) to trójki nukleotydów, np. UGC, i większość zapisuje pewien aminokwas (z wyjątkiem trzech kodonów stopu), który jest wykorzystywany w syntezie białek.\n",
    "\n",
    "Problem jest taki, że w praktyce trzeba sekwencjonować DNA/RNA z wielu komórek, więc trzeba je namnożyć w laboratorium. Niestety nie da się uzyskać idealnej czystości, i zawsze jest szansa, że próbka zostanie zanieczyszczona, np. bakteriami. Wtedy oprócz interesujących nas komórek (np. zwierzęcych) otrzymamy inne, których trzeba się pozbyć przed dalszą analizą. Tutaj właśnie wchodzi ML - dokonamy klasyfikacji, z jakiego królestwa (a właściwie domeny) pochodzi kod RNA, żeby pomóc w takich sytuacjach.\n",
    "\n",
    "Dla uproszczenia, autorzy, zamiast klasyfikować królestwo, klasyfikują [domenę](https://pl.wikipedia.org/wiki/Domena_(biologia)) organizmu. Są to jednostki o poziom wyżej w systematyce taksonomicznej. Do tego dokładamy wirusy i bakteriofagi. Mamy zatem klasy:\n",
    "1. Archaea ([archeony](https://pl.wikipedia.org/wiki/Archeony))\n",
    "2. Bacteria ([bakterie](https://pl.wikipedia.org/wiki/Bakterie))\n",
    "3. Eukariota ([eukarionty](https://pl.wikipedia.org/wiki/Eukarionty)) - między innymi ludzie\n",
    "4. Viruses ([wirusy](https://pl.wikipedia.org/wiki/Wirusy)) - nie są organizmami żywymi, więc nie są częścią typowej taksonomii, ale są ważne w badaniach mikrobiologicznych\n",
    "5. Bacteriophages ([bakteriofagi](https://pl.wikipedia.org/wiki/Bakteriofag)) - rodzaj wirusów atakujących tylko bakterie, używane m.in. [w badaniach nad mikrobiomem jelitowym](https://kids.frontiersin.org/articles/10.3389/frym.2019.00146)\n",
    "\n",
    "Szczegółowy opis zbioru znajduje się [na stronie UCI](https://archive.ics.uci.edu/ml/datasets/Codon+usage). W skrócie:\n",
    "1. `Kingdom` - królestwo, z którego pochodzi komórka. Podział jest tutaj dość szczegółowy, ale organizmy te można pogrupować w praktyce na bakterie (bacteria), wirusy (viruses) i eukarionty (eukariota).\n",
    "2. `DNAtype` - używana w innych analizach w artykule.\n",
    "3. `SpeciesID` - numer gatunku.\n",
    "4. `Ncodons` - liczba kodonów zmierzona dla danej komórki.\n",
    "5. `SpeciesName` - nazwa gatunku.\n",
    "\n",
    "Dalsze kolumny to znormalizowany ułamek kodonów poszczególnych typów w RNA danej komórki. W związku z tym, że dane są już znormalizowane, nie ma potrzeby ich skalowania."
   ]
  },
  {
   "cell_type": "code",
   "execution_count": 4,
   "metadata": {},
   "outputs": [
    {
     "name": "stderr",
     "output_type": "stream",
     "text": [
      "/home/przemek/.local/lib/python3.8/site-packages/IPython/core/interactiveshell.py:3457: DtypeWarning: Columns (5,6) have mixed types.Specify dtype option on import or set low_memory=False.\n",
      "  exec(code_obj, self.user_global_ns, self.user_ns)\n"
     ]
    },
    {
     "data": {
      "text/html": [
       "<div>\n",
       "<style scoped>\n",
       "    .dataframe tbody tr th:only-of-type {\n",
       "        vertical-align: middle;\n",
       "    }\n",
       "\n",
       "    .dataframe tbody tr th {\n",
       "        vertical-align: top;\n",
       "    }\n",
       "\n",
       "    .dataframe thead th {\n",
       "        text-align: right;\n",
       "    }\n",
       "</style>\n",
       "<table border=\"1\" class=\"dataframe\">\n",
       "  <thead>\n",
       "    <tr style=\"text-align: right;\">\n",
       "      <th></th>\n",
       "      <th>Kingdom</th>\n",
       "      <th>DNAtype</th>\n",
       "      <th>SpeciesID</th>\n",
       "      <th>Ncodons</th>\n",
       "      <th>SpeciesName</th>\n",
       "      <th>UUU</th>\n",
       "      <th>UUC</th>\n",
       "      <th>UUA</th>\n",
       "      <th>UUG</th>\n",
       "      <th>CUU</th>\n",
       "      <th>...</th>\n",
       "      <th>CGG</th>\n",
       "      <th>AGA</th>\n",
       "      <th>AGG</th>\n",
       "      <th>GAU</th>\n",
       "      <th>GAC</th>\n",
       "      <th>GAA</th>\n",
       "      <th>GAG</th>\n",
       "      <th>UAA</th>\n",
       "      <th>UAG</th>\n",
       "      <th>UGA</th>\n",
       "    </tr>\n",
       "  </thead>\n",
       "  <tbody>\n",
       "    <tr>\n",
       "      <th>0</th>\n",
       "      <td>vrl</td>\n",
       "      <td>0</td>\n",
       "      <td>100217</td>\n",
       "      <td>1995</td>\n",
       "      <td>Epizootic haematopoietic necrosis virus</td>\n",
       "      <td>0.01654</td>\n",
       "      <td>0.01203</td>\n",
       "      <td>0.00050</td>\n",
       "      <td>0.00351</td>\n",
       "      <td>0.01203</td>\n",
       "      <td>...</td>\n",
       "      <td>0.00451</td>\n",
       "      <td>0.01303</td>\n",
       "      <td>0.03559</td>\n",
       "      <td>0.01003</td>\n",
       "      <td>0.04612</td>\n",
       "      <td>0.01203</td>\n",
       "      <td>0.04361</td>\n",
       "      <td>0.00251</td>\n",
       "      <td>0.00050</td>\n",
       "      <td>0.00000</td>\n",
       "    </tr>\n",
       "    <tr>\n",
       "      <th>1</th>\n",
       "      <td>vrl</td>\n",
       "      <td>0</td>\n",
       "      <td>100220</td>\n",
       "      <td>1474</td>\n",
       "      <td>Bohle iridovirus</td>\n",
       "      <td>0.02714</td>\n",
       "      <td>0.01357</td>\n",
       "      <td>0.00068</td>\n",
       "      <td>0.00678</td>\n",
       "      <td>0.00407</td>\n",
       "      <td>...</td>\n",
       "      <td>0.00136</td>\n",
       "      <td>0.01696</td>\n",
       "      <td>0.03596</td>\n",
       "      <td>0.01221</td>\n",
       "      <td>0.04545</td>\n",
       "      <td>0.01560</td>\n",
       "      <td>0.04410</td>\n",
       "      <td>0.00271</td>\n",
       "      <td>0.00068</td>\n",
       "      <td>0.00000</td>\n",
       "    </tr>\n",
       "    <tr>\n",
       "      <th>2</th>\n",
       "      <td>vrl</td>\n",
       "      <td>0</td>\n",
       "      <td>100755</td>\n",
       "      <td>4862</td>\n",
       "      <td>Sweet potato leaf curl virus</td>\n",
       "      <td>0.01974</td>\n",
       "      <td>0.0218</td>\n",
       "      <td>0.01357</td>\n",
       "      <td>0.01543</td>\n",
       "      <td>0.00782</td>\n",
       "      <td>...</td>\n",
       "      <td>0.00596</td>\n",
       "      <td>0.01974</td>\n",
       "      <td>0.02489</td>\n",
       "      <td>0.03126</td>\n",
       "      <td>0.02036</td>\n",
       "      <td>0.02242</td>\n",
       "      <td>0.02468</td>\n",
       "      <td>0.00391</td>\n",
       "      <td>0.00000</td>\n",
       "      <td>0.00144</td>\n",
       "    </tr>\n",
       "    <tr>\n",
       "      <th>3</th>\n",
       "      <td>vrl</td>\n",
       "      <td>0</td>\n",
       "      <td>100880</td>\n",
       "      <td>1915</td>\n",
       "      <td>Northern cereal mosaic virus</td>\n",
       "      <td>0.01775</td>\n",
       "      <td>0.02245</td>\n",
       "      <td>0.01619</td>\n",
       "      <td>0.00992</td>\n",
       "      <td>0.01567</td>\n",
       "      <td>...</td>\n",
       "      <td>0.00366</td>\n",
       "      <td>0.01410</td>\n",
       "      <td>0.01671</td>\n",
       "      <td>0.03760</td>\n",
       "      <td>0.01932</td>\n",
       "      <td>0.03029</td>\n",
       "      <td>0.03446</td>\n",
       "      <td>0.00261</td>\n",
       "      <td>0.00157</td>\n",
       "      <td>0.00000</td>\n",
       "    </tr>\n",
       "    <tr>\n",
       "      <th>4</th>\n",
       "      <td>vrl</td>\n",
       "      <td>0</td>\n",
       "      <td>100887</td>\n",
       "      <td>22831</td>\n",
       "      <td>Soil-borne cereal mosaic virus</td>\n",
       "      <td>0.02816</td>\n",
       "      <td>0.01371</td>\n",
       "      <td>0.00767</td>\n",
       "      <td>0.03679</td>\n",
       "      <td>0.01380</td>\n",
       "      <td>...</td>\n",
       "      <td>0.00604</td>\n",
       "      <td>0.01494</td>\n",
       "      <td>0.01734</td>\n",
       "      <td>0.04148</td>\n",
       "      <td>0.02483</td>\n",
       "      <td>0.03359</td>\n",
       "      <td>0.03679</td>\n",
       "      <td>0.00000</td>\n",
       "      <td>0.00044</td>\n",
       "      <td>0.00131</td>\n",
       "    </tr>\n",
       "    <tr>\n",
       "      <th>...</th>\n",
       "      <td>...</td>\n",
       "      <td>...</td>\n",
       "      <td>...</td>\n",
       "      <td>...</td>\n",
       "      <td>...</td>\n",
       "      <td>...</td>\n",
       "      <td>...</td>\n",
       "      <td>...</td>\n",
       "      <td>...</td>\n",
       "      <td>...</td>\n",
       "      <td>...</td>\n",
       "      <td>...</td>\n",
       "      <td>...</td>\n",
       "      <td>...</td>\n",
       "      <td>...</td>\n",
       "      <td>...</td>\n",
       "      <td>...</td>\n",
       "      <td>...</td>\n",
       "      <td>...</td>\n",
       "      <td>...</td>\n",
       "      <td>...</td>\n",
       "    </tr>\n",
       "    <tr>\n",
       "      <th>13023</th>\n",
       "      <td>pri</td>\n",
       "      <td>0</td>\n",
       "      <td>9601</td>\n",
       "      <td>1097</td>\n",
       "      <td>Pongo pygmaeus abelii</td>\n",
       "      <td>0.02552</td>\n",
       "      <td>0.03555</td>\n",
       "      <td>0.00547</td>\n",
       "      <td>0.01367</td>\n",
       "      <td>0.01276</td>\n",
       "      <td>...</td>\n",
       "      <td>0.00820</td>\n",
       "      <td>0.01367</td>\n",
       "      <td>0.01094</td>\n",
       "      <td>0.01367</td>\n",
       "      <td>0.02279</td>\n",
       "      <td>0.02005</td>\n",
       "      <td>0.04102</td>\n",
       "      <td>0.00091</td>\n",
       "      <td>0.00091</td>\n",
       "      <td>0.00638</td>\n",
       "    </tr>\n",
       "    <tr>\n",
       "      <th>13024</th>\n",
       "      <td>pri</td>\n",
       "      <td>1</td>\n",
       "      <td>9601</td>\n",
       "      <td>2067</td>\n",
       "      <td>mitochondrion Pongo pygmaeus abelii</td>\n",
       "      <td>0.01258</td>\n",
       "      <td>0.03193</td>\n",
       "      <td>0.01984</td>\n",
       "      <td>0.00629</td>\n",
       "      <td>0.01451</td>\n",
       "      <td>...</td>\n",
       "      <td>0.00145</td>\n",
       "      <td>0.00000</td>\n",
       "      <td>0.00048</td>\n",
       "      <td>0.00194</td>\n",
       "      <td>0.01306</td>\n",
       "      <td>0.01838</td>\n",
       "      <td>0.00677</td>\n",
       "      <td>0.00242</td>\n",
       "      <td>0.00097</td>\n",
       "      <td>0.01887</td>\n",
       "    </tr>\n",
       "    <tr>\n",
       "      <th>13025</th>\n",
       "      <td>pri</td>\n",
       "      <td>1</td>\n",
       "      <td>9602</td>\n",
       "      <td>1686</td>\n",
       "      <td>mitochondrion Pongo pygmaeus pygmaeus</td>\n",
       "      <td>0.01423</td>\n",
       "      <td>0.03321</td>\n",
       "      <td>0.01661</td>\n",
       "      <td>0.00356</td>\n",
       "      <td>0.01127</td>\n",
       "      <td>...</td>\n",
       "      <td>0.00000</td>\n",
       "      <td>0.00000</td>\n",
       "      <td>0.00000</td>\n",
       "      <td>0.00178</td>\n",
       "      <td>0.01661</td>\n",
       "      <td>0.02788</td>\n",
       "      <td>0.00297</td>\n",
       "      <td>0.00356</td>\n",
       "      <td>0.00119</td>\n",
       "      <td>0.02017</td>\n",
       "    </tr>\n",
       "    <tr>\n",
       "      <th>13026</th>\n",
       "      <td>pri</td>\n",
       "      <td>0</td>\n",
       "      <td>9606</td>\n",
       "      <td>40662582</td>\n",
       "      <td>Homo sapiens</td>\n",
       "      <td>0.01757</td>\n",
       "      <td>0.02028</td>\n",
       "      <td>0.00767</td>\n",
       "      <td>0.01293</td>\n",
       "      <td>0.01319</td>\n",
       "      <td>...</td>\n",
       "      <td>0.01142</td>\n",
       "      <td>0.01217</td>\n",
       "      <td>0.01196</td>\n",
       "      <td>0.02178</td>\n",
       "      <td>0.02510</td>\n",
       "      <td>0.02896</td>\n",
       "      <td>0.03959</td>\n",
       "      <td>0.00099</td>\n",
       "      <td>0.00079</td>\n",
       "      <td>0.00156</td>\n",
       "    </tr>\n",
       "    <tr>\n",
       "      <th>13027</th>\n",
       "      <td>pri</td>\n",
       "      <td>1</td>\n",
       "      <td>9606</td>\n",
       "      <td>8998998</td>\n",
       "      <td>mitochondrion Homo sapiens</td>\n",
       "      <td>0.01778</td>\n",
       "      <td>0.03724</td>\n",
       "      <td>0.01732</td>\n",
       "      <td>0.00600</td>\n",
       "      <td>0.01689</td>\n",
       "      <td>...</td>\n",
       "      <td>0.00083</td>\n",
       "      <td>0.00041</td>\n",
       "      <td>0.00041</td>\n",
       "      <td>0.00451</td>\n",
       "      <td>0.01402</td>\n",
       "      <td>0.01651</td>\n",
       "      <td>0.00783</td>\n",
       "      <td>0.00156</td>\n",
       "      <td>0.00114</td>\n",
       "      <td>0.02161</td>\n",
       "    </tr>\n",
       "  </tbody>\n",
       "</table>\n",
       "<p>13028 rows × 69 columns</p>\n",
       "</div>"
      ],
      "text/plain": [
       "      Kingdom  DNAtype  SpeciesID   Ncodons  \\\n",
       "0         vrl        0     100217      1995   \n",
       "1         vrl        0     100220      1474   \n",
       "2         vrl        0     100755      4862   \n",
       "3         vrl        0     100880      1915   \n",
       "4         vrl        0     100887     22831   \n",
       "...       ...      ...        ...       ...   \n",
       "13023     pri        0       9601      1097   \n",
       "13024     pri        1       9601      2067   \n",
       "13025     pri        1       9602      1686   \n",
       "13026     pri        0       9606  40662582   \n",
       "13027     pri        1       9606   8998998   \n",
       "\n",
       "                                   SpeciesName      UUU      UUC      UUA  \\\n",
       "0      Epizootic haematopoietic necrosis virus  0.01654  0.01203  0.00050   \n",
       "1                             Bohle iridovirus  0.02714  0.01357  0.00068   \n",
       "2                 Sweet potato leaf curl virus  0.01974   0.0218  0.01357   \n",
       "3                 Northern cereal mosaic virus  0.01775  0.02245  0.01619   \n",
       "4               Soil-borne cereal mosaic virus  0.02816  0.01371  0.00767   \n",
       "...                                        ...      ...      ...      ...   \n",
       "13023                    Pongo pygmaeus abelii  0.02552  0.03555  0.00547   \n",
       "13024      mitochondrion Pongo pygmaeus abelii  0.01258  0.03193  0.01984   \n",
       "13025    mitochondrion Pongo pygmaeus pygmaeus  0.01423  0.03321  0.01661   \n",
       "13026                             Homo sapiens  0.01757  0.02028  0.00767   \n",
       "13027               mitochondrion Homo sapiens  0.01778  0.03724  0.01732   \n",
       "\n",
       "           UUG      CUU  ...      CGG      AGA      AGG      GAU      GAC  \\\n",
       "0      0.00351  0.01203  ...  0.00451  0.01303  0.03559  0.01003  0.04612   \n",
       "1      0.00678  0.00407  ...  0.00136  0.01696  0.03596  0.01221  0.04545   \n",
       "2      0.01543  0.00782  ...  0.00596  0.01974  0.02489  0.03126  0.02036   \n",
       "3      0.00992  0.01567  ...  0.00366  0.01410  0.01671  0.03760  0.01932   \n",
       "4      0.03679  0.01380  ...  0.00604  0.01494  0.01734  0.04148  0.02483   \n",
       "...        ...      ...  ...      ...      ...      ...      ...      ...   \n",
       "13023  0.01367  0.01276  ...  0.00820  0.01367  0.01094  0.01367  0.02279   \n",
       "13024  0.00629  0.01451  ...  0.00145  0.00000  0.00048  0.00194  0.01306   \n",
       "13025  0.00356  0.01127  ...  0.00000  0.00000  0.00000  0.00178  0.01661   \n",
       "13026  0.01293  0.01319  ...  0.01142  0.01217  0.01196  0.02178  0.02510   \n",
       "13027  0.00600  0.01689  ...  0.00083  0.00041  0.00041  0.00451  0.01402   \n",
       "\n",
       "           GAA      GAG      UAA      UAG      UGA  \n",
       "0      0.01203  0.04361  0.00251  0.00050  0.00000  \n",
       "1      0.01560  0.04410  0.00271  0.00068  0.00000  \n",
       "2      0.02242  0.02468  0.00391  0.00000  0.00144  \n",
       "3      0.03029  0.03446  0.00261  0.00157  0.00000  \n",
       "4      0.03359  0.03679  0.00000  0.00044  0.00131  \n",
       "...        ...      ...      ...      ...      ...  \n",
       "13023  0.02005  0.04102  0.00091  0.00091  0.00638  \n",
       "13024  0.01838  0.00677  0.00242  0.00097  0.01887  \n",
       "13025  0.02788  0.00297  0.00356  0.00119  0.02017  \n",
       "13026  0.02896  0.03959  0.00099  0.00079  0.00156  \n",
       "13027  0.01651  0.00783  0.00156  0.00114  0.02161  \n",
       "\n",
       "[13028 rows x 69 columns]"
      ]
     },
     "execution_count": 4,
     "metadata": {},
     "output_type": "execute_result"
    }
   ],
   "source": [
    "df = pd.read_csv(\"codon_usage.csv\")\n",
    "df"
   ]
  },
  {
   "cell_type": "markdown",
   "metadata": {},
   "source": [
    "Mamy warning co do typu - niedobrze. Sprawdźmy typy:"
   ]
  },
  {
   "cell_type": "code",
   "execution_count": 5,
   "metadata": {},
   "outputs": [
    {
     "data": {
      "text/plain": [
       "Kingdom         object\n",
       "DNAtype          int64\n",
       "SpeciesID        int64\n",
       "Ncodons          int64\n",
       "SpeciesName     object\n",
       "UUU             object\n",
       "UUC             object\n",
       "UUA            float64\n",
       "UUG            float64\n",
       "CUU            float64\n",
       "CUC            float64\n",
       "CUA            float64\n",
       "CUG            float64\n",
       "AUU            float64\n",
       "AUC            float64\n",
       "AUA            float64\n",
       "AUG            float64\n",
       "GUU            float64\n",
       "GUC            float64\n",
       "GUA            float64\n",
       "dtype: object"
      ]
     },
     "execution_count": 5,
     "metadata": {},
     "output_type": "execute_result"
    }
   ],
   "source": [
    "df.dtypes.head(20)"
   ]
  },
  {
   "cell_type": "markdown",
   "metadata": {},
   "source": [
    "Kolumny `UUU` i `UUC` powinny być floatami - niedobrze. Na szczęście to tylko literówka w jednym wierszu, co można sprawdzić w danych. Usuniemy ją po prostu."
   ]
  },
  {
   "cell_type": "code",
   "execution_count": 6,
   "metadata": {},
   "outputs": [
    {
     "data": {
      "text/plain": [
       "Kingdom         object\n",
       "DNAtype          int64\n",
       "SpeciesID        int64\n",
       "Ncodons          int64\n",
       "SpeciesName     object\n",
       "UUU            float64\n",
       "UUC            float64\n",
       "UUA            float64\n",
       "UUG            float64\n",
       "CUU            float64\n",
       "CUC            float64\n",
       "CUA            float64\n",
       "CUG            float64\n",
       "AUU            float64\n",
       "AUC            float64\n",
       "AUA            float64\n",
       "AUG            float64\n",
       "GUU            float64\n",
       "GUC            float64\n",
       "GUA            float64\n",
       "dtype: object"
      ]
     },
     "execution_count": 6,
     "metadata": {},
     "output_type": "execute_result"
    }
   ],
   "source": [
    "df = df[pd.to_numeric(df[\"UUU\"], errors=\"coerce\").notnull()].copy()\n",
    "\n",
    "df = df.copy()  # to avoid irritating SettingWithCopyWarning\n",
    "\n",
    "df[\"UUU\"] = df.loc[:, \"UUU\"].astype(float)\n",
    "df[\"UUC\"] = df.loc[:, \"UUC\"].astype(float)\n",
    "\n",
    "df.dtypes.head(20)"
   ]
  },
  {
   "cell_type": "markdown",
   "metadata": {},
   "source": [
    "**Zadanie 1 (1.5 punktu)**\n",
    "\n",
    "*Preprocessing danych (wzorowany na artykule)*\n",
    "\n",
    "1. Usuń wiersze mające mniej niż 1000 kodonów\n",
    "2. Usuń wiersze dla plazmidów (wartość `plm` dla królestwa)\n",
    "3. Usuń kolumny bezużyteczne dla ML: `DNAtype`, `SpeciesID`, `Ncodons`, `SpeciesName`\n",
    "4. Zakoduj klasy (kolumna `Kingdom`):\n",
    "  - 0 - archaea, `arc`\n",
    "  - 1 - bacteria, `bct`\n",
    "  - 2 - eukaryota, `pln`, `inv`, `vrt`, `mam`, `rod`, `pri`\n",
    "  - 3 - bacteriophages (phages), `phg`\n",
    "  - 4 - viruses (viral cells), `vrl`\n",
    "5. Wyodrębnij klasy jako osobną zmienną `y`. Pamiętaj o usunięciu tej kolumny z oryginalnego DataFrame'a."
   ]
  },
  {
   "cell_type": "code",
   "execution_count": 7,
   "metadata": {},
   "outputs": [],
   "source": [
    "df = df.drop(df[df['Ncodons'] < 1000].index) # na SO piszą, że wolniejsze niż filtrowanie przez view, ale, że ono może czasami sprawiać problemy\n",
    "df = df.drop(df[df['Kingdom'] == \"plm\"].index)\n",
    "df = df.drop(columns=['DNAtype',\"SpeciesID\", \"Ncodons\", \"SpeciesName\"])\n",
    "\n",
    "encoding = {\"Kingdom\":{\"arc\": 0, \"bct\": 1, \"pln\": 2,\"inv\": 2,\"mam\": 2,\"vrt\": 2,\"rod\": 2,\"pri\": 2,\"phg\": 3,\"vrl\": 4 }}\n",
    "df = df.replace(encoding)\n",
    "\n",
    "y = df.pop(\"Kingdom\")"
   ]
  },
  {
   "cell_type": "markdown",
   "metadata": {},
   "source": [
    "Sprawdzimy jeszcze rozkład klas:"
   ]
  },
  {
   "cell_type": "code",
   "execution_count": 8,
   "metadata": {},
   "outputs": [
    {
     "data": {
      "text/plain": [
       "Text(0.5, 1.0, 'Class frequencies in %')"
      ]
     },
     "execution_count": 8,
     "metadata": {},
     "output_type": "execute_result"
    },
    {
     "data": {
      "image/png": "[encoded data removed]",
      "text/plain": [
       "<Figure size 432x288 with 1 Axes>"
      ]
     },
     "metadata": {
      "needs_background": "light"
     },
     "output_type": "display_data"
    }
   ],
   "source": [
    "class_frequencies = y.value_counts() / y.count()\n",
    "class_frequencies = class_frequencies.sort_index()\n",
    "class_frequencies.index = [\"Archaea\", \"Bacteria\", \"Eukaryota\", \"Phages\", \"Viruses\"]\n",
    "\n",
    "ax = class_frequencies.plot.bar(rot=0)\n",
    "plt.title(\"Class frequencies in %\")"
   ]
  },
  {
   "cell_type": "markdown",
   "metadata": {},
   "source": [
    "Jak widać, mamy nie tylko klasyfikację wieloklasową, ale na dodatek klasyfikację niezbalansowaną. W takim przypadku trzeba użyć odpowiednich metryk. Wzorując się na artykule, użyjemy **macro-averaged F1-score**. Jest to proste rozwinięcie F1-score na wiele klas.\n",
    "\n",
    "Dla przypomnienia, w klasyfikacji binarnej, F1-score to średnia harmoniczna precyzji (precision) i czułości (recall):\n",
    "\n",
    "$$\n",
    "F1 = \\frac{2}{recall^{-1} + precision^{-1}} = 2 * \\frac{precision * recall}{precision + recall} = \\frac{2 * TP}{2 * TP + FP + FN}\n",
    "$$\n",
    "\n",
    "Macro-averaging oznacza, że najpierw obliczamy F1-score dla każdej klasy, a później bierzemy ich średnią. Żeby taka średnia była wysoka, to musimy mieć wysoki wynik na wszystkich 5 klasach, w tym 2 mniejszościowych, więc uwzględnimy niezbalansowanie klas."
   ]
  },
  {
   "cell_type": "markdown",
   "metadata": {},
   "source": [
    "## Klasyfikator kNN"
   ]
  },
  {
   "cell_type": "markdown",
   "metadata": {},
   "source": [
    "Wytrenujemy teraz podstawowy algorytm k najbliższych sąsiadów, korzystając z samych wartości domyślnych ze Scikit-learn: 5 sąsiadów, metryka euklidesowa, brak ważenia.\n",
    "\n",
    "Zgodnie z artykułem, wykorzystamy zwykłą metodę holdout do testowania, dzieląc zbiór na treningowy i testowy w proporcjach 80%-20%. Zrobimy to ze **stratyfikacją (stratification)**, czyli tak, żeby rozkład klas był taki sam w obu podzbiorach."
   ]
  },
  {
   "cell_type": "code",
   "execution_count": 9,
   "metadata": {},
   "outputs": [
    {
     "name": "stderr",
     "output_type": "stream",
     "text": [
      "/home/przemek/.local/lib/python3.8/site-packages/scipy/__init__.py:146: UserWarning: A NumPy version >=1.16.5 and <1.23.0 is required for this version of SciPy (detected version 1.23.5\n",
      "  warnings.warn(f\"A NumPy version >={np_minversion} and <{np_maxversion}\"\n"
     ]
    }
   ],
   "source": [
    "from sklearn.model_selection import train_test_split\n",
    "\n",
    "\n",
    "X_train, X_test, y_train, y_test = train_test_split(\n",
    "    df, y, test_size=0.2, random_state=0, stratify=y\n",
    ")"
   ]
  },
  {
   "cell_type": "code",
   "execution_count": 10,
   "metadata": {},
   "outputs": [
    {
     "name": "stdout",
     "output_type": "stream",
     "text": [
      "F1 train: 92.51%\n",
      "F1 test: 91.35%\n"
     ]
    }
   ],
   "source": [
    "from sklearn.metrics import f1_score\n",
    "from sklearn.neighbors import KNeighborsClassifier\n",
    "\n",
    "\n",
    "clf = KNeighborsClassifier(n_jobs=-1)\n",
    "clf.fit(X_train, y_train)\n",
    "\n",
    "y_pred_score_train = clf.predict(X_train)\n",
    "y_pred_score_test = clf.predict(X_test)\n",
    "\n",
    "f1_train = f1_score(y_train, y_pred_score_train, average=\"macro\")\n",
    "f1_test = f1_score(y_test, y_pred_score_test, average=\"macro\")\n",
    "\n",
    "print(f\"F1 train: {100 * f1_train:.2f}%\")\n",
    "print(f\"F1 test: {100 * f1_test:.2f}%\")"
   ]
  },
  {
   "cell_type": "markdown",
   "metadata": {},
   "source": [
    "Wyniki są całkiem niezłe, ale jest jeszcze miejsce na poprawę. Być może zmiana liczby sąsiadów albo metryki, albo też dodanie ważenia sąsiadów da nam jeszcze kilka procent.\n",
    "\n",
    "W przypadku wielu klas samo agregowane F1 nie zawsze mówi jednak wszystko. Zawsze warto sprawdzić **macierz pomyłek (confusion matrix)**. Co ważne, można ją rysować albo z surową liczbą przykładów, albo znormalizować, żeby dostać wyniki w ułamku (zakres wartości 0-1). Pierwsza możliwość jest przydatna, kiedy mamy niezbalansowane klasy i patrzymy na ogólną jakość klasyfikatora. Znormalizowane wykresy są z kolei przydatne, kiedy przyglądamy się klasom z osobna."
   ]
  },
  {
   "cell_type": "code",
   "execution_count": 11,
   "metadata": {},
   "outputs": [
    {
     "data": {
      "image/png": "[encoded data removed]",
      "text/plain": [
       "<Figure size 432x288 with 2 Axes>"
      ]
     },
     "metadata": {
      "needs_background": "light"
     },
     "output_type": "display_data"
    },
    {
     "data": {
      "image/png": "[encoded data removed]",
      "text/plain": [
       "<Figure size 432x288 with 2 Axes>"
      ]
     },
     "metadata": {
      "needs_background": "light"
     },
     "output_type": "display_data"
    }
   ],
   "source": [
    "from sklearn.metrics import ConfusionMatrixDisplay\n",
    "\n",
    "ConfusionMatrixDisplay.from_estimator(\n",
    "    clf, X_test, y_test\n",
    ")\n",
    "plt.title(\"Confusion matrix (no normalization)\")\n",
    "plt.show()\n",
    "\n",
    "\n",
    "ConfusionMatrixDisplay.from_estimator(\n",
    "    clf, X_test, y_test, normalize=\"true\"\n",
    ")\n",
    "plt.title(\"Confusion matrix (row-normalized)\")\n",
    "plt.show()"
   ]
  },
  {
   "cell_type": "markdown",
   "metadata": {},
   "source": [
    "Wyniki są całkiem niezłe, w końcu mamy wysokie F1. Widać jednak, że dość często mylimy klasę 0 (archeony) oraz klasę 3 (bakteriofagi) z klasą 1 (bakterie) - jest to problematyczne, ale zrozumiałe, bo tych klas jest najmniej.\n",
    "\n",
    "Po tuningu powinniśmy otrzymać lepsze wyniki. Na dobry początek sprawdzimy różną liczbę sąsiadów. Trzeba zwrócić uwagę, że jeżeli nasza metryka ma jakieś argumenty, to trzeba użyć funkcji `make_scorer` i przekazać wynik do `GridSearchCV`.\n",
    "\n",
    "Zwróć też uwagę, że skoro przekazujemy `n_jobs=-1` do klasyfikatora, to grid search dostaje `n_jobs=None`, żeby mieć tyle procesów, co rdzeni procesora. Przy okazji zmierzymy też czas tuningu."
   ]
  },
  {
   "cell_type": "code",
   "execution_count": 12,
   "metadata": {},
   "outputs": [
    {
     "name": "stdout",
     "output_type": "stream",
     "text": [
      "Optimal number of neighbors: 1\n",
      "Tuning time: 23.24 s\n",
      "F1 train: 100.00%\n",
      "F1 test: 89.16%\n"
     ]
    }
   ],
   "source": [
    "from time import time\n",
    "\n",
    "from sklearn.metrics import make_scorer\n",
    "from sklearn.model_selection import GridSearchCV\n",
    "\n",
    "\n",
    "clf = KNeighborsClassifier(n_jobs=-1)\n",
    "\n",
    "param_grid = {\n",
    "    \"n_neighbors\": list(range(1, 51)),\n",
    "}\n",
    "\n",
    "multiclass_f1 = make_scorer(\n",
    "    f1_score,\n",
    "    average=\"macro\", \n",
    "    greater_is_better=True,\n",
    ")\n",
    "\n",
    "cv = GridSearchCV(\n",
    "    estimator=clf,\n",
    "    param_grid=param_grid,\n",
    "    scoring=multiclass_f1,\n",
    "    cv=5,\n",
    ")\n",
    "\n",
    "time_start = time()\n",
    "cv.fit(X_train, y_train)\n",
    "time_end = time()\n",
    "\n",
    "print(f\"Optimal number of neighbors: {cv.best_params_['n_neighbors']}\")\n",
    "print(f\"Tuning time: {time_end - time_start:.2f} s\")\n",
    "\n",
    "y_pred_score_train = cv.predict(X_train)\n",
    "y_pred_score_test = cv.predict(X_test)\n",
    "\n",
    "f1_train = f1_score(y_train, y_pred_score_train, average=\"macro\")\n",
    "f1_test = f1_score(y_test, y_pred_score_test, average=\"macro\")\n",
    "\n",
    "print(f\"F1 train: {100 * f1_train:.2f}%\")\n",
    "print(f\"F1 test: {100 * f1_test:.2f}%\")"
   ]
  },
  {
   "cell_type": "markdown",
   "metadata": {},
   "source": [
    "Co ciekawe, po tuningu nie tylko nie mamy lepszego wyniku, ale wręcz przeuczamy bardziej! Tak się niestety zdarza - tuning opiera się na wyniku na zbiorze walidacyjnym, które nie zawsze są dobrą estymatą. Pewnym sposobem na ominięcie tego jest zmniejszenie zakresu dla hiperparametru. Tutaj wiemy, że:\n",
    "- im mniejsza liczba sąsiadów, tym większa wariancja (mocniejszy overfitting) i na odwrót\n",
    "- domyślna liczba sąsiadów to 5\n",
    "- przy 4 przeuczamy mocniej\n",
    "\n",
    "Można więc po prostu sprawdzać zakres od 5 wzwyż. Do tego czeka nas jeszcze tuning metryki i ważenia sąsiadów.\n",
    "\n",
    "**Zadanie 2 (1.5 punktu)**\n",
    "\n",
    "*Tuning kNN*\n",
    "\n",
    "1. Dokonaj tuningu: liczby sąsiadów (zakres [5, 25]), metryki (euklidesowa, Manhattan, cosinusowa) oraz ważenia sąsiadów (brak vs ważenie odległością). Jakie są optymalne wartości hiperparametrów?\n",
    "2. Zmierz czas tuningu. Czy twoim zdaniem to długo, dla zbioru, który ma ok. 10k próbek uczących?\n",
    "3. Czy macierz pomyłek dla zbioru testowego wygląda sensownie, szczególnie dla klas mniejszościowych? Czy udało się uzyskać wynik lepszy od bazowego?"
   ]
  },
  {
   "cell_type": "code",
   "execution_count": 13,
   "metadata": {},
   "outputs": [
    {
     "name": "stdout",
     "output_type": "stream",
     "text": [
      "Optimal number of neighbors: 5\n",
      "Tuning time: 161.78 s\n",
      "F1 train: 92.89%\n",
      "F1 test: 91.88%\n"
     ]
    },
    {
     "data": {
      "image/png": "[encoded data removed]",
      "text/plain": [
       "<Figure size 432x288 with 2 Axes>"
      ]
     },
     "metadata": {
      "needs_background": "light"
     },
     "output_type": "display_data"
    },
    {
     "data": {
      "image/png": "[encoded data removed]",
      "text/plain": [
       "<Figure size 432x288 with 2 Axes>"
      ]
     },
     "metadata": {
      "needs_background": "light"
     },
     "output_type": "display_data"
    }
   ],
   "source": [
    "clf = KNeighborsClassifier(n_jobs=-1)\n",
    "\n",
    "param_grid = {\n",
    "    \"n_neighbors\": list(range(5, 25)),\n",
    "    \"metric\": [\"euclidean\", \"cityblock\", \"cosine\"],\n",
    "    \"weights\": [None, \"uniform\"]\n",
    "}\n",
    "\n",
    "multiclass_f1 = make_scorer(\n",
    "    f1_score,\n",
    "    average=\"macro\", \n",
    "    greater_is_better=True,\n",
    ")\n",
    "\n",
    "cv = GridSearchCV(\n",
    "    estimator=clf,\n",
    "    param_grid=param_grid,\n",
    "    scoring=multiclass_f1,\n",
    "    cv=5,\n",
    ")\n",
    "\n",
    "time_start = time()\n",
    "cv.fit(X_train, y_train)\n",
    "time_end = time()\n",
    "\n",
    "print(f\"Optimal number of neighbors: {cv.best_params_['n_neighbors']}\")\n",
    "print(f\"Tuning time: {time_end - time_start:.2f} s\")\n",
    "\n",
    "y_pred_score_train = cv.predict(X_train)\n",
    "y_pred_score_test = cv.predict(X_test)\n",
    "\n",
    "f1_train = f1_score(y_train, y_pred_score_train, average=\"macro\")\n",
    "f1_test = f1_score(y_test, y_pred_score_test, average=\"macro\")\n",
    "\n",
    "print(f\"F1 train: {100 * f1_train:.2f}%\")\n",
    "print(f\"F1 test: {100 * f1_test:.2f}%\")\n",
    "\n",
    "ConfusionMatrixDisplay.from_estimator(\n",
    "    cv, X_test, y_test\n",
    ")\n",
    "plt.title(\"Confusion matrix (no normalization)\")\n",
    "plt.show()\n",
    "\n",
    "\n",
    "ConfusionMatrixDisplay.from_estimator(\n",
    "    cv, X_test, y_test, normalize=\"true\"\n",
    ")\n",
    "plt.title(\"Confusion matrix (row-normalized)\")\n",
    "plt.show()"
   ]
  },
  {
   "cell_type": "markdown",
   "metadata": {},
   "source": [
    "Wyniki poprawiły się bardo nieznacznie. Tuning może nie trwał zbyt długo, ale jak za ułamek procenta to średni tradeoff, zwłaszcza jeśli zbiór danych byłby większy"
   ]
  },
  {
   "cell_type": "markdown",
   "metadata": {},
   "source": [
    "## Approximate Nearest Neighbors (ANN)"
   ]
  },
  {
   "cell_type": "markdown",
   "metadata": {},
   "source": [
    "Postaramy się teraz przyspieszyć nasz klasyfikator, w zamian za odrobinę dokładności, za pomocą algorytmu przybliżonych najbliższych sąsiadów, a konkretnie NNDescent.\n",
    "\n",
    "Twórcy Scikit-learn'a zdawali sobie sprawę, że algorytmy znajdowania najbliższych sąsiadów to aktywne pole rozwoju, dlatego stworzyli klasę (i interfejs) `KNeighborsTransformer`, pozwalającą integrować zewnętrzne rozwiązania. Działa ona zarówno do klasyfikacji / regresji kNN, jak i do innych algorytmów opartych o sąsiedztwo, które budują graf najbliższych sąsiadów. W przypadku jego użycia trzeba podać `metric=\"precomputed\"`, bo obliczaniem odległości zajmuje się osobny algorytm.\n",
    "\n",
    "Implementacja PyNNDescent korzysta właśnie z tego rozwiązania, co gwarantuje łatwość użycia - klasa `PyNNDescentTransformer` dziedziczy po `KNeighborsTransformer`. Zobaczmy, jak to działa. Wykorzystamy funkcję `make_pipeline()`, która buduje obiekt `Pipeline`, ale nie wymaga podawania nazw kolejnych elementów.\n",
    "\n",
    "**Uwaga:** PyNNDescent dla wydajności korzysta z Numby, czyli kompilatora JIT (Just-In-Time). Dzięki temu działa to bardzo szybko, ale pierwszy import i wykonanie zajmuje sporo czasu. Wykonaj kod 2 razy - za drugim razem będzie o wiele szybciej."
   ]
  },
  {
   "cell_type": "code",
   "execution_count": 14,
   "metadata": {},
   "outputs": [],
   "source": [
    "from time import time\n",
    "\n",
    "\n",
    "def benchmark_knn_and_ann(\n",
    "    sklearn_knn, \n",
    "    pynndescent_ann, \n",
    "    X_train, \n",
    "    X_test, \n",
    "    y_train, \n",
    "    y_test,\n",
    ") -> None:\n",
    "    # training\n",
    "    start_time = time()\n",
    "    sklearn_knn.fit(X_train, y_train)\n",
    "    end_time = time()\n",
    "\n",
    "    sklearn_knn_fit_time = end_time - start_time\n",
    "\n",
    "    start_time = time()\n",
    "    pynndescent_ann.fit(X_train, y_train)\n",
    "    end_time = time()\n",
    "\n",
    "    pynndescent_ann_fit_time = end_time - start_time\n",
    "\n",
    "    # prediction\n",
    "\n",
    "    start_time = time()\n",
    "    y_pred_sklearn = sklearn_knn.predict(X_test)\n",
    "    end_time = time()\n",
    "\n",
    "    sklearn_knn_predict_time = end_time - start_time\n",
    "\n",
    "    start_time = time()\n",
    "    y_pred_pynndescent = pynndescent_ann.predict(X_test)\n",
    "    end_time = time()\n",
    "\n",
    "    pynndescent_ann_predict_time = end_time - start_time\n",
    "    \n",
    "    f1_knn = f1_score(y_test, y_pred_sklearn, average=\"macro\")\n",
    "    f1_ann = f1_score(y_test, y_pred_pynndescent, average=\"macro\")\n",
    "\n",
    "    print(f\"Scikit-learn training time: {sklearn_knn_fit_time:.2f}\")\n",
    "    print(f\"PyNNDescent training time: {pynndescent_ann_fit_time:.2f}\")\n",
    "    print()\n",
    "    print(f\"Scikit-learn prediction time: {sklearn_knn_predict_time:.2f}\")\n",
    "    print(f\"PyNNDescent prediction time: {pynndescent_ann_predict_time:.2f}\")\n",
    "    print()\n",
    "    print(f\"Scikit-learn F1: {100 * f1_knn:.2f}%\")\n",
    "    print(f\"PyNNDescent F1: {100 * f1_ann:.2f}%\")"
   ]
  },
  {
   "cell_type": "code",
   "execution_count": 15,
   "metadata": {},
   "outputs": [
    {
     "name": "stdout",
     "output_type": "stream",
     "text": [
      "Scikit-learn training time: 0.00\n",
      "PyNNDescent training time: 21.55\n",
      "\n",
      "Scikit-learn prediction time: 0.11\n",
      "PyNNDescent prediction time: 0.09\n",
      "\n",
      "Scikit-learn F1: 91.35%\n",
      "PyNNDescent F1: 91.25%\n"
     ]
    }
   ],
   "source": [
    "from pynndescent import PyNNDescentTransformer\n",
    "from sklearn.pipeline import make_pipeline\n",
    "\n",
    "\n",
    "sklearn_knn = KNeighborsClassifier(metric=\"euclidean\")\n",
    "\n",
    "pynndescent_ann = make_pipeline(\n",
    "    PyNNDescentTransformer(metric=\"euclidean\", random_state=0),\n",
    "    KNeighborsClassifier(metric=\"precomputed\"),\n",
    ")\n",
    "\n",
    "benchmark_knn_and_ann(sklearn_knn, pynndescent_ann, X_train, X_test, y_train, y_test)"
   ]
  },
  {
   "cell_type": "markdown",
   "metadata": {},
   "source": [
    "Czas treningu jest dłuższy - to oczekiwany wynik. Natomiast czas predykcji jest podobny - wynika to z tego, że dla metryki euklidesowej k-d tree jest bardzo wydajne. Wynik jest bardzo podobny, więc mamy dobre przybliżenie.\n",
    "\n",
    "Sprawdźmy metrykę Manhattan, dla której typowo k-d tree radzi sobie nieco gorzej."
   ]
  },
  {
   "cell_type": "code",
   "execution_count": 16,
   "metadata": {
    "scrolled": true
   },
   "outputs": [
    {
     "name": "stdout",
     "output_type": "stream",
     "text": [
      "Scikit-learn training time: 0.00\n",
      "PyNNDescent training time: 10.51\n",
      "\n",
      "Scikit-learn prediction time: 0.39\n",
      "PyNNDescent prediction time: 0.13\n",
      "\n",
      "Scikit-learn F1: 91.39%\n",
      "PyNNDescent F1: 91.39%\n"
     ]
    }
   ],
   "source": [
    "sklearn_knn = KNeighborsClassifier(metric=\"manhattan\")\n",
    "\n",
    "pynndescent_ann = make_pipeline(\n",
    "    PyNNDescentTransformer(metric=\"manhattan\", random_state=0),\n",
    "    KNeighborsClassifier(metric=\"precomputed\"),\n",
    ")\n",
    "\n",
    "benchmark_knn_and_ann(sklearn_knn, pynndescent_ann, X_train, X_test, y_train, y_test)"
   ]
  },
  {
   "cell_type": "markdown",
   "metadata": {},
   "source": [
    "Tutaj predykcja ANN jest już wyraźnie szybsza - co prawda dane są niezbyt duże, więc nie ma to aż takiego znaczenia, ale widać potencjał skalowalności. Dodatkowo wynik jest taki sam.\n",
    "\n",
    "Różnice byłyby znacznie lepiej widoczne w algorytmach, które budują cały graf najbliższych sąsiadów. Poznamy je na laboratorium z redukcji wymiaru i selekcji cech."
   ]
  },
  {
   "cell_type": "markdown",
   "metadata": {},
   "source": [
    "## Zbiór danych - klasyfikacja danych binarnych"
   ]
  },
  {
   "cell_type": "markdown",
   "metadata": {},
   "source": [
    "Teraz zajmiemy się klasyfikacją zbioru posiadającego same zmienne binarne, do których trzeba użyć odpowiednich metryk. Konkretnie, będzie to zbiór [HIV z benchmarku MoleculeNet](https://moleculenet.org/datasets-1), w którym na podstawie reprezentacji chemicznej molekuły trzeba przewidywać, czy jest ona inhibitorem wirusa HIV. [Inhibitory](https://en.wikipedia.org/wiki/Reaction_inhibitor) to substancje przeciwne do katalizatorów - spowalniają lub uniemożliwiają jakieś zjawisko, w naszym wypadku infekcję wirusa HIV. Przewidywanie własności molekuł to kluczowe zadanie w nowoczesnym projektowaniu leków i bardzo ważne zastosowanie ML w farmacji.\n",
    "\n",
    "Zbiór jest już podzielony na treningowy, walidacyjny i testowy w ramach projektu [Open Graph Benchmark](https://ogb.stanford.edu/docs/graphprop/). Dane te można traktować jak klasyfikację grafów molekularnych, ale w naszym wypadku zostały już one przetworzone do postaci tabelarycznej algorytmem [ECFP4 fingerprint](https://docs.chemaxon.com/display/docs/extended-connectivity-fingerprint-ecfp.md#:~:text=Extended%2DConnectivity%20Fingerprints%20(ECFPs),a%20wide%20variety%20of%20applications.). Konkretnie, z molekuł wyciągnięto informacje o 1024 podgrafach, gdzie wartość zmiennej mówi, czy dana struktura występuje w molekule, czy też nie.\n",
    "\n",
    "Jako że zbiór jest binarny, to nie ma potrzeby żadnego skalowania zmiennych.\n",
    "\n",
    "W przypadku tego zbioru oficjalną metryką [w benchmarku](https://ogb.stanford.edu/docs/leader_graphprop/) jest Area Under Receiver Operating Characteristic (AUROC / ROC AUC)."
   ]
  },
  {
   "cell_type": "markdown",
   "metadata": {},
   "source": [
    "**Zadanie 3 (1 punkt)**\n",
    "\n",
    "*Ładowanie danych*\n",
    "\n",
    "1. Wczytaj zbiory treningowy, walidacyjny i testowy. Są one w postaci plików Parquet.\n",
    "2. Wyodrębnij klasę `y` do osobnych zmiennych `y_train`, `y_valid`, `y_test`.\n",
    "3. Przekonwertuj macierze `X_train`, `X_valid` i `X_test` na typ bool ([przydatne pytanie na StackOverflow](https://stackoverflow.com/questions/20373039/how-do-i-convert-a-numpy-matrix-into-a-boolean-matrix)) - tak przechowywane dane zajmują mniej miejsca.\n",
    "4. Narysuj wykres częstości klas w zbiorze treningowym. Jak sądzisz, czemu akurat AUROC zostało tutaj wybrane jako metryka?"
   ]
  },
  {
   "cell_type": "code",
   "execution_count": 17,
   "metadata": {},
   "outputs": [
    {
     "data": {
      "text/plain": [
       "Text(0.5, 1.0, 'Class frequencies in %')"
      ]
     },
     "execution_count": 17,
     "metadata": {},
     "output_type": "execute_result"
    },
    {
     "data": {
      "image/png": "[encoded data removed]",
      "text/plain": [
       "<Figure size 432x288 with 1 Axes>"
      ]
     },
     "metadata": {
      "needs_background": "light"
     },
     "output_type": "display_data"
    }
   ],
   "source": [
    "X_train = pd.read_parquet('mol_hiv_train.parquet')\n",
    "X_test = pd.read_parquet('mol_hiv_test.parquet')\n",
    "X_valid = pd.read_parquet('mol_hiv_valid.parquet')\n",
    "\n",
    "y_train = X_train.pop('y')\n",
    "y_test = X_test.pop('y')\n",
    "y_valid = X_valid.pop('y')\n",
    "\n",
    "X_train = X_train != 0\n",
    "X_test = X_test != 0\n",
    "X_valid = X_valid != 0\n",
    "\n",
    "class_frequencies = y_train.value_counts() / y_train.count()\n",
    "class_frequencies = class_frequencies.sort_index()\n",
    "# class_frequencies.index = []\n",
    "\n",
    "ax = class_frequencies.plot.bar(rot=0)\n",
    "plt.title(\"Class frequencies in %\")"
   ]
  },
  {
   "cell_type": "markdown",
   "metadata": {},
   "source": [
    "Liczy się dla nas trade-off między true positivies i false positives, a właśnie to mierzy AUROC. Jak musimy ustawić threshold testu na HIV, żeby łapać true positives, bez łapania zbyt wielu false positives."
   ]
  },
  {
   "cell_type": "markdown",
   "metadata": {},
   "source": [
    "**Zadanie 4 (1.5 punktu)**\n",
    "\n",
    "*Trening klasyfikatora kNN*\n",
    "\n",
    "1. Wytrenuj klasyfikator kNN z domyślnymi hiperparametrami, używając metryki Jaccarda. Zmierz AUROC na zbiorze testowym. Pamiętaj, żeby przekazać odpowiednie wartości do metryki (patrz [przykład w dokumentacji](https://scikit-learn.org/stable/modules/generated/sklearn.metrics.roc_auc_score.html)).\n",
    "2. Zmierz czas treningu oraz predykcji. Czy podczas treningu została zbudowana jakakolwiek struktura danych?\n",
    "3. Dokonaj tuningu liczby sąsiadów z zakresu [1, 5, 10]. Wykorzystaj tutaj istniejący zbiór walidacyjny z pomocą `PredefinedSplit`. Może się przydać [ta odpowiedź na StackOverflow](https://stackoverflow.com/a/70155766/9472066). Do tuningu wykorzystaj metrykę AUROC (argument `scoring`).\n",
    "4. Porównaj wyniki algorytmu po tuningu [z oficjalnym leaderboardem](https://ogb.stanford.edu/docs/leader_graphprop/)."
   ]
  },
  {
   "cell_type": "code",
   "execution_count": 18,
   "metadata": {},
   "outputs": [
    {
     "name": "stdout",
     "output_type": "stream",
     "text": [
      "Training time: 12788.95 s\n",
      "Prediction time: 56.77 s\n",
      "AUROC train: 58.99%\n",
      "AUROC test: 58.99%\n"
     ]
    }
   ],
   "source": [
    "from sklearn.metrics import jaccard_score, roc_auc_score\n",
    "\n",
    "clf = KNeighborsClassifier(n_jobs=-1, metric=jaccard_score)\n",
    "\n",
    "time_start = time()\n",
    "cv.fit(X_train, y_train)\n",
    "time_end = time()\n",
    "\n",
    "print(f\"Training time: {time_end - time_start:.2f} s\")\n",
    "\n",
    "time_start = time()\n",
    "y_pred_score_train = cv.predict(X_train)\n",
    "time_end = time()\n",
    "print(f\"Prediction time: {time_end - time_start:.2f} s\")\n",
    "\n",
    "y_pred_score_test = cv.predict(X_test)\n",
    "\n",
    "f1_train = roc_auc_score(y_test, y_pred_score_test)\n",
    "f1_test = roc_auc_score(y_test, y_pred_score_test)\n",
    "\n",
    "print(f\"AUROC train: {100 * f1_train:.2f}%\")\n",
    "print(f\"AUROC test: {100 * f1_test:.2f}%\")"
   ]
  },
  {
   "cell_type": "code",
   "execution_count": 19,
   "metadata": {},
   "outputs": [],
   "source": [
    "from sklearn.model_selection import PredefinedSplit\n",
    "\n",
    "clf = KNeighborsClassifier(n_jobs=-1, metric=jaccard_score)\n",
    "\n",
    "param_grid = {\n",
    "    \"n_neighbors\": [1, 5, 10],\n",
    "}\n",
    "\n",
    "split_index = [-1]*len(X_train) + [0]*len(X_valid)\n",
    "X = np.concatenate((X_train, X_valid), axis=0)\n",
    "y = np.concatenate((y_train, y_valid), axis=0)\n",
    "pds = PredefinedSplit(test_fold = split_index)\n",
    "\n",
    "cv = GridSearchCV(\n",
    "    estimator=clf,\n",
    "    param_grid=param_grid,\n",
    "    scoring='roc_auc',\n",
    "    cv=pds,\n",
    ")\n",
    "\n",
    "time_start = time()\n",
    "cv.fit(X, y)\n",
    "time_end = time()\n",
    "\n",
    "print(f\"Optimal number of neighbors: {cv.best_params_['n_neighbors']}\")\n",
    "print(f\"Tuning time: {time_end - time_start:.2f} s\")\n",
    "\n",
    "y_pred_score_train = cv.predict(X_train)\n",
    "y_pred_score_test = cv.predict(X_test)\n",
    "\n",
    "f1_train = f1_score(y_train, y_pred_score_train, average=\"macro\")\n",
    "f1_test = f1_score(y_test, y_pred_score_test, average=\"macro\")\n",
    "\n",
    "print(f\"F1 train: {100 * f1_train:.2f}%\")\n",
    "print(f\"F1 test: {100 * f1_test:.2f}%\")\n",
    "\n",
    "ConfusionMatrixDisplay.from_estimator(\n",
    "    cv, X_test, y_test\n",
    ")\n",
    "plt.title(\"Confusion matrix (no normalization)\")\n",
    "plt.show()\n",
    "\n",
    "\n",
    "ConfusionMatrixDisplay.from_estimator(\n",
    "    cv, X_test, y_test, normalize=\"true\"\n",
    ")\n",
    "plt.title(\"Confusion matrix (row-normalized)\")\n",
    "plt.show()"
   ]
  },
  {
   "cell_type": "markdown",
   "metadata": {},
   "source": [
    "Wynik bez fine tuningu wyszedł zaskakująco niski. Być może coś popsułem?\n",
    "\n",
    "Niestety nie przeprowadziłem fine tuningu (kod się odpalił, ale przerwałem po kilku minutach, widząc jak długo wykonywał się kod z cellki wyżej), bo nie wyrobiłbym się z oddaniem zestawu. Można przypuszczać, że wyniki poprawiłyby się. W kolejnym podpunkcie strzelam w użycie k=5 sąsiadów"
   ]
  },
  {
   "cell_type": "markdown",
   "metadata": {},
   "source": [
    "**Zadanie 5 (1.5 punktu)**\n",
    "\n",
    "*Klasyfikacja z metryką Jaccarda*\n",
    "\n",
    "1. Stwórz pipeline do klasyfikacji ANN z użyciem PyNNDescent. Wykorzystaj metrykę Jaccarda i znalezioną wcześniej optymalną liczbę sąsiadów.\n",
    "2. Wytrenuj zwykłe kNN oraz ANN oraz dokonaj predykcji. Zmierz czas oraz dokładność obu metod. Czy twoim zdaniem warto dokonać w tym wypadku takiej aproksymacji?"
   ]
  },
  {
   "cell_type": "code",
   "execution_count": null,
   "metadata": {},
   "outputs": [],
   "source": [
    "sklearn_knn = KNeighborsClassifier(metric=jaccard_score)\n",
    "\n",
    "pynndescent_ann = make_pipeline(\n",
    "    PyNNDescentTransformer(metric=\"jaccard\", n_neighbors=5, random_state=0),\n",
    "    KNeighborsClassifier(metric=\"precomputed\"),\n",
    ")\n",
    "\n",
    "benchmark_knn_and_ann(sklearn_knn, pynndescent_ann, X_train, X_test, y_train, y_test)"
   ]
  },
  {
   "cell_type": "markdown",
   "metadata": {},
   "source": [
    "## Wyszukiwanie z pomocą najbliższych sąsiadów"
   ]
  },
  {
   "cell_type": "markdown",
   "metadata": {},
   "source": [
    "Naszym ostatnim zastosowaniem metod opartych o sąsiedztwo będzie wyszukiwanie przedmiotów. Konkretnie stworzymy wyszukiwarkę obrazów na podstawie wpisanego hasła.\n",
    "\n",
    "Jest to zadanie **multimodalne (multimodal)**, bo operujemy na dwóch różnych modalnościach: obrazie i tekście. Takie wyszukiwarki działają następująco:\n",
    "1. W fazie treningu przedmioty (obrazy) są wektoryzowane siecią neuronową i przechowywane w indeksie.\n",
    "2. Użytkownik wpisuje tekst, który jest wektoryzowany za pomocą tej samej sieci neuronowej, dlatego musi być ona multimodalna.\n",
    "3. Wyszukujemy najbliższych sąsiadów (obrazy-wektory) dla tekstu-wektora.\n",
    "\n",
    "Najbardziej znanym modelem multimodalnym jest [CLIP](https://openai.com/research/clip), stworzony przez OpenAI. Jego architektura i wagi są dostępne publicznie, w przeciwieństwie do nowych rozwiązań tej firmy. Jest to model zasadniczo niewymagający fine-tuningu, działa bardzo dobrze w podstawowej formie dla wielu zadań. Został też wykorzystany jako element modelu [DALL-E 2](https://openai.com/product/dall-e-2).\n",
    "\n",
    "Nie musisz szczegółowo wiedzieć, jak działa ten model, ale pewne podstawy są bardzo ciekawe i przydatne. Dla zainteresowanych [cały artykuł](https://cdn.openai.com/papers/Learning_Transferable_Visual_Models_From_Natural_Language.pdf) - ale ostrzegam, że jest dość zaawansowany. Wysokopoziomowo architekturę dobrze opisuje [ten artykuł](https://towardsdatascience.com/clip-the-most-influential-ai-model-from-openai-and-how-to-use-it-f8ee408958b1). CLIP składa się z dwóch enkoderów: dla tekstu i dla obrazu. Są to zwykłe pre-trenowane sieci, a konkretnie:\n",
    "1. Dla obrazu - [Visual Transformer (ViT)](https://www.v7labs.com/blog/vision-transformer-guide). Jest to architektura, która używa transformerów i atencji do przetwarzania obrazów. Ideą jest, żeby pociąć obraz na sąsiadujące kawałki (patches), i traktować je jak słowa dla atencji.\n",
    "2. Dla tekstu - [Transformer](https://machinelearningmastery.com/the-transformer-model/), z pewnymi modyfikacjami.\n",
    "\n",
    "Każda z tych sieci wektoryzuje wejście, dając embedding.\n",
    "\n",
    "![CLIP](clip.png)\n",
    "\n",
    "Zbiorem danych była kolekcja 400 milionów par (obraz, tekst), gdzie tekst opisywał zawartość obrazu. Następnie wykonano **constrastive pre-training** - model dostaje batch $N$ par (obraz, tekst) i ma przewidzieć, które z $N \\times N$ możliwych kombinacji (obraz, tekst) faktycznie wystąpiły. W tym celu maksymalizuje podobieństwo cosinusowe par, które wystąpiły w batchu, a minimalizuje podobieństwo dla $N^2 - N$ możliwych kombinacji, których nie było w batchu. W tym celu jest używana entropia krzyżowa z pewnymi modyfikacjami.\n",
    "\n",
    "Widać więc, że model jest nienadzorowany, a zbiór danych był ogromny, więc fine-tuning nie jest nam zasadniczo potrzebny. Można go użyć do klasyfikacji, ale tym nie będziemy się zajmować. Dodatkowo odpowiednią metryką odległości dla najbliższych sąsiadów będzie podobieństwo cosinusowe.\n",
    "\n",
    "Biblioteka [Sentence-Transformers](https://www.sbert.net/index.html) powstała dla różnych modeli transformerowych do zadań nienadzorowanych, ale dodano do niej także bardzo wygodny interfejs dla modelu CLIP - [przykład użycia](https://www.sbert.net/examples/applications/image-search/README.html). \n",
    "\n",
    "Jako zbiór wykorzystamy [Amazon Berkeley Objects (ABO) Dataset](https://amazon-berkeley-objects.s3.amazonaws.com/index.html) - zbiór obrazów produktów Amazona, stworzony we współpracy z University of California, Berkeley. Wykorzystamy [zminiaturyzowany zbiór](https://amazon-berkeley-objects.s3.amazonaws.com/archives/abo-images-small.tar), w którym obrazy mają rozmiar 256x256 pikseli, bo na nasze potrzeby jest zupełnie wystarczający."
   ]
  },
  {
   "cell_type": "markdown",
   "metadata": {},
   "source": [
    "**Zadanie 6 (3 punkty)**\n",
    "\n",
    "*Wyszukiwarka z ANN*\n",
    "\n",
    "1. Ściągnij [zbiór danych](https://amazon-berkeley-objects.s3.amazonaws.com/archives/abo-images-small.tar). Rozpakuj go obok tego notebooka. W katalogu `images/metadata` znajdziesz plik `images.csv.gz` - rozpakuj go obok tego notebooka, zawiera on ścieżki do obrazów.\n",
    "2. Uzupełnij kod funkcji `vectorize_images`, która oblicza embeddingi obrazów za pomocą modelu CLIP. Przyda ci się [ten tutorial](https://www.sbert.net/examples/applications/image-search/README.html). Ustaw wartość MAX_IMAGES tak, żeby wystarczyło ci RAMu i żeby proces trwał rozsądną ilość czasu (ale co najmniej kilka-kilkanaście minut). `start_idx` oraz `end_idx` to indeksy wierszy, na których w danej chwili operujemy - po prostu przesuwamy się o `BATCH_SIZE` w pętli for.\n",
    "3. Uzupełnij kod klasy `ImageSearch`:\n",
    "  - w konstruktorze stwórz indeks za pomocą klasy [NNDescent](https://pynndescent.readthedocs.io/en/latest/api.html#pynndescent.pynndescent_.NNDescent), korzystając z metryki cosinusowej i `random_state=0`, może się też przydać `n_jobs=-1`\n",
    "  - w metodzie `query` zwektoryzuj zapytanie tekstowe, a następ wyszukaj indeksy najbliższych sąsiadów-obrazów w indeksie (zwróć uwagę na to, co zwraca metoda `.query()` dla `NNDescent`), a następnie zwróć ścieżki do ich obrazów; zwróć uwagę na to, że `.query()` wymaga 2-wymiarowego wejścia, więc w naszym wypadku `(1, 512)`\n",
    "  - w metodzie `show_images` załaduj i wyświetl obrazy; może się przydać [ten przykład](https://matplotlib.org/stable/gallery/axes_grid1/simple_axesgrid.html)\n",
    "4. Przetestuj wyszukiwarkę kilkoma hasłami (metoda `.search()`). Prawdopodobnie najlepiej zadziałają hasła odpowiadające typowym produktom sprzedawanym w Amazonie.\n",
    "5. Jakie widzisz zalety i wady takiego podejścia do wyszukiwania?\n",
    "\n",
    "**Uwaga:** jeżeli masz mało RAMu lub pracujesz na Google Colab, to warto zrestartować Jupyter Notebooka, zamykając kernel. Zwolni ci to pamięć. Możesz też usunąć macierz z embeddingami (`del embeddings`) kiedy stworzysz indeks w konstruktorze `ImageSearch`."
   ]
  },
  {
   "cell_type": "code",
   "execution_count": null,
   "metadata": {},
   "outputs": [
    {
     "ename": "FileNotFoundError",
     "evalue": "[Errno 2] No such file or directory: 'images.csv'",
     "output_type": "error",
     "traceback": [
      "\u001b[0;31m---------------------------------------------------------------------------\u001b[0m",
      "\u001b[0;31mFileNotFoundError\u001b[0m                         Traceback (most recent call last)",
      "\u001b[0;32m/tmp/ipykernel_10759/1455821631.py\u001b[0m in \u001b[0;36m<module>\u001b[0;34m\u001b[0m\n\u001b[1;32m      1\u001b[0m \u001b[0;31m# prepare pd.Series with paths to images\u001b[0m\u001b[0;34m\u001b[0m\u001b[0;34m\u001b[0m\u001b[0;34m\u001b[0m\u001b[0m\n\u001b[0;32m----> 2\u001b[0;31m \u001b[0mimage_paths\u001b[0m \u001b[0;34m=\u001b[0m \u001b[0mpd\u001b[0m\u001b[0;34m.\u001b[0m\u001b[0mread_csv\u001b[0m\u001b[0;34m(\u001b[0m\u001b[0;34m\"images.csv\"\u001b[0m\u001b[0;34m)\u001b[0m\u001b[0;34m\u001b[0m\u001b[0;34m\u001b[0m\u001b[0m\n\u001b[0m\u001b[1;32m      3\u001b[0m \u001b[0;34m\u001b[0m\u001b[0m\n\u001b[1;32m      4\u001b[0m \u001b[0;31m# \"height\" and \"width\" are original image size, let's select\u001b[0m\u001b[0;34m\u001b[0m\u001b[0;34m\u001b[0m\u001b[0;34m\u001b[0m\u001b[0m\n\u001b[1;32m      5\u001b[0m \u001b[0;31m# only large ones - they are probably more interesting\u001b[0m\u001b[0;34m\u001b[0m\u001b[0;34m\u001b[0m\u001b[0;34m\u001b[0m\u001b[0m\n",
      "\u001b[0;32m~/.local/lib/python3.8/site-packages/pandas/util/_decorators.py\u001b[0m in \u001b[0;36mwrapper\u001b[0;34m(*args, **kwargs)\u001b[0m\n\u001b[1;32m    309\u001b[0m                     \u001b[0mstacklevel\u001b[0m\u001b[0;34m=\u001b[0m\u001b[0mstacklevel\u001b[0m\u001b[0;34m,\u001b[0m\u001b[0;34m\u001b[0m\u001b[0;34m\u001b[0m\u001b[0m\n\u001b[1;32m    310\u001b[0m                 )\n\u001b[0;32m--> 311\u001b[0;31m             \u001b[0;32mreturn\u001b[0m \u001b[0mfunc\u001b[0m\u001b[0;34m(\u001b[0m\u001b[0;34m*\u001b[0m\u001b[0margs\u001b[0m\u001b[0;34m,\u001b[0m \u001b[0;34m**\u001b[0m\u001b[0mkwargs\u001b[0m\u001b[0;34m)\u001b[0m\u001b[0;34m\u001b[0m\u001b[0;34m\u001b[0m\u001b[0m\n\u001b[0m\u001b[1;32m    312\u001b[0m \u001b[0;34m\u001b[0m\u001b[0m\n\u001b[1;32m    313\u001b[0m         \u001b[0;32mreturn\u001b[0m \u001b[0mwrapper\u001b[0m\u001b[0;34m\u001b[0m\u001b[0;34m\u001b[0m\u001b[0m\n",
      "\u001b[0;32m~/.local/lib/python3.8/site-packages/pandas/io/parsers/readers.py\u001b[0m in \u001b[0;36mread_csv\u001b[0;34m(filepath_or_buffer, sep, delimiter, header, names, index_col, usecols, squeeze, prefix, mangle_dupe_cols, dtype, engine, converters, true_values, false_values, skipinitialspace, skiprows, skipfooter, nrows, na_values, keep_default_na, na_filter, verbose, skip_blank_lines, parse_dates, infer_datetime_format, keep_date_col, date_parser, dayfirst, cache_dates, iterator, chunksize, compression, thousands, decimal, lineterminator, quotechar, quoting, doublequote, escapechar, comment, encoding, encoding_errors, dialect, error_bad_lines, warn_bad_lines, on_bad_lines, delim_whitespace, low_memory, memory_map, float_precision, storage_options)\u001b[0m\n\u001b[1;32m    584\u001b[0m     \u001b[0mkwds\u001b[0m\u001b[0;34m.\u001b[0m\u001b[0mupdate\u001b[0m\u001b[0;34m(\u001b[0m\u001b[0mkwds_defaults\u001b[0m\u001b[0;34m)\u001b[0m\u001b[0;34m\u001b[0m\u001b[0;34m\u001b[0m\u001b[0m\n\u001b[1;32m    585\u001b[0m \u001b[0;34m\u001b[0m\u001b[0m\n\u001b[0;32m--> 586\u001b[0;31m     \u001b[0;32mreturn\u001b[0m \u001b[0m_read\u001b[0m\u001b[0;34m(\u001b[0m\u001b[0mfilepath_or_buffer\u001b[0m\u001b[0;34m,\u001b[0m \u001b[0mkwds\u001b[0m\u001b[0;34m)\u001b[0m\u001b[0;34m\u001b[0m\u001b[0;34m\u001b[0m\u001b[0m\n\u001b[0m\u001b[1;32m    587\u001b[0m \u001b[0;34m\u001b[0m\u001b[0m\n\u001b[1;32m    588\u001b[0m \u001b[0;34m\u001b[0m\u001b[0m\n",
      "\u001b[0;32m~/.local/lib/python3.8/site-packages/pandas/io/parsers/readers.py\u001b[0m in \u001b[0;36m_read\u001b[0;34m(filepath_or_buffer, kwds)\u001b[0m\n\u001b[1;32m    480\u001b[0m \u001b[0;34m\u001b[0m\u001b[0m\n\u001b[1;32m    481\u001b[0m     \u001b[0;31m# Create the parser.\u001b[0m\u001b[0;34m\u001b[0m\u001b[0;34m\u001b[0m\u001b[0;34m\u001b[0m\u001b[0m\n\u001b[0;32m--> 482\u001b[0;31m     \u001b[0mparser\u001b[0m \u001b[0;34m=\u001b[0m \u001b[0mTextFileReader\u001b[0m\u001b[0;34m(\u001b[0m\u001b[0mfilepath_or_buffer\u001b[0m\u001b[0;34m,\u001b[0m \u001b[0;34m**\u001b[0m\u001b[0mkwds\u001b[0m\u001b[0;34m)\u001b[0m\u001b[0;34m\u001b[0m\u001b[0;34m\u001b[0m\u001b[0m\n\u001b[0m\u001b[1;32m    483\u001b[0m \u001b[0;34m\u001b[0m\u001b[0m\n\u001b[1;32m    484\u001b[0m     \u001b[0;32mif\u001b[0m \u001b[0mchunksize\u001b[0m \u001b[0;32mor\u001b[0m \u001b[0miterator\u001b[0m\u001b[0;34m:\u001b[0m\u001b[0;34m\u001b[0m\u001b[0;34m\u001b[0m\u001b[0m\n",
      "\u001b[0;32m~/.local/lib/python3.8/site-packages/pandas/io/parsers/readers.py\u001b[0m in \u001b[0;36m__init__\u001b[0;34m(self, f, engine, **kwds)\u001b[0m\n\u001b[1;32m    809\u001b[0m             \u001b[0mself\u001b[0m\u001b[0;34m.\u001b[0m\u001b[0moptions\u001b[0m\u001b[0;34m[\u001b[0m\u001b[0;34m\"has_index_names\"\u001b[0m\u001b[0;34m]\u001b[0m \u001b[0;34m=\u001b[0m \u001b[0mkwds\u001b[0m\u001b[0;34m[\u001b[0m\u001b[0;34m\"has_index_names\"\u001b[0m\u001b[0;34m]\u001b[0m\u001b[0;34m\u001b[0m\u001b[0;34m\u001b[0m\u001b[0m\n\u001b[1;32m    810\u001b[0m \u001b[0;34m\u001b[0m\u001b[0m\n\u001b[0;32m--> 811\u001b[0;31m         \u001b[0mself\u001b[0m\u001b[0;34m.\u001b[0m\u001b[0m_engine\u001b[0m \u001b[0;34m=\u001b[0m \u001b[0mself\u001b[0m\u001b[0;34m.\u001b[0m\u001b[0m_make_engine\u001b[0m\u001b[0;34m(\u001b[0m\u001b[0mself\u001b[0m\u001b[0;34m.\u001b[0m\u001b[0mengine\u001b[0m\u001b[0;34m)\u001b[0m\u001b[0;34m\u001b[0m\u001b[0;34m\u001b[0m\u001b[0m\n\u001b[0m\u001b[1;32m    812\u001b[0m \u001b[0;34m\u001b[0m\u001b[0m\n\u001b[1;32m    813\u001b[0m     \u001b[0;32mdef\u001b[0m \u001b[0mclose\u001b[0m\u001b[0;34m(\u001b[0m\u001b[0mself\u001b[0m\u001b[0;34m)\u001b[0m\u001b[0;34m:\u001b[0m\u001b[0;34m\u001b[0m\u001b[0;34m\u001b[0m\u001b[0m\n",
      "\u001b[0;32m~/.local/lib/python3.8/site-packages/pandas/io/parsers/readers.py\u001b[0m in \u001b[0;36m_make_engine\u001b[0;34m(self, engine)\u001b[0m\n\u001b[1;32m   1038\u001b[0m             )\n\u001b[1;32m   1039\u001b[0m         \u001b[0;31m# error: Too many arguments for \"ParserBase\"\u001b[0m\u001b[0;34m\u001b[0m\u001b[0;34m\u001b[0m\u001b[0;34m\u001b[0m\u001b[0m\n\u001b[0;32m-> 1040\u001b[0;31m         \u001b[0;32mreturn\u001b[0m \u001b[0mmapping\u001b[0m\u001b[0;34m[\u001b[0m\u001b[0mengine\u001b[0m\u001b[0;34m]\u001b[0m\u001b[0;34m(\u001b[0m\u001b[0mself\u001b[0m\u001b[0;34m.\u001b[0m\u001b[0mf\u001b[0m\u001b[0;34m,\u001b[0m \u001b[0;34m**\u001b[0m\u001b[0mself\u001b[0m\u001b[0;34m.\u001b[0m\u001b[0moptions\u001b[0m\u001b[0;34m)\u001b[0m  \u001b[0;31m# type: ignore[call-arg]\u001b[0m\u001b[0;34m\u001b[0m\u001b[0;34m\u001b[0m\u001b[0m\n\u001b[0m\u001b[1;32m   1041\u001b[0m \u001b[0;34m\u001b[0m\u001b[0m\n\u001b[1;32m   1042\u001b[0m     \u001b[0;32mdef\u001b[0m \u001b[0m_failover_to_python\u001b[0m\u001b[0;34m(\u001b[0m\u001b[0mself\u001b[0m\u001b[0;34m)\u001b[0m\u001b[0;34m:\u001b[0m\u001b[0;34m\u001b[0m\u001b[0;34m\u001b[0m\u001b[0m\n",
      "\u001b[0;32m~/.local/lib/python3.8/site-packages/pandas/io/parsers/c_parser_wrapper.py\u001b[0m in \u001b[0;36m__init__\u001b[0;34m(self, src, **kwds)\u001b[0m\n\u001b[1;32m     49\u001b[0m \u001b[0;34m\u001b[0m\u001b[0m\n\u001b[1;32m     50\u001b[0m         \u001b[0;31m# open handles\u001b[0m\u001b[0;34m\u001b[0m\u001b[0;34m\u001b[0m\u001b[0;34m\u001b[0m\u001b[0m\n\u001b[0;32m---> 51\u001b[0;31m         \u001b[0mself\u001b[0m\u001b[0;34m.\u001b[0m\u001b[0m_open_handles\u001b[0m\u001b[0;34m(\u001b[0m\u001b[0msrc\u001b[0m\u001b[0;34m,\u001b[0m \u001b[0mkwds\u001b[0m\u001b[0;34m)\u001b[0m\u001b[0;34m\u001b[0m\u001b[0;34m\u001b[0m\u001b[0m\n\u001b[0m\u001b[1;32m     52\u001b[0m         \u001b[0;32massert\u001b[0m \u001b[0mself\u001b[0m\u001b[0;34m.\u001b[0m\u001b[0mhandles\u001b[0m \u001b[0;32mis\u001b[0m \u001b[0;32mnot\u001b[0m \u001b[0;32mNone\u001b[0m\u001b[0;34m\u001b[0m\u001b[0;34m\u001b[0m\u001b[0m\n\u001b[1;32m     53\u001b[0m \u001b[0;34m\u001b[0m\u001b[0m\n",
      "\u001b[0;32m~/.local/lib/python3.8/site-packages/pandas/io/parsers/base_parser.py\u001b[0m in \u001b[0;36m_open_handles\u001b[0;34m(self, src, kwds)\u001b[0m\n\u001b[1;32m    220\u001b[0m         \u001b[0mLet\u001b[0m \u001b[0mthe\u001b[0m \u001b[0mreaders\u001b[0m \u001b[0mopen\u001b[0m \u001b[0mIOHandles\u001b[0m \u001b[0mafter\u001b[0m \u001b[0mthey\u001b[0m \u001b[0mare\u001b[0m \u001b[0mdone\u001b[0m \u001b[0;32mwith\u001b[0m \u001b[0mtheir\u001b[0m \u001b[0mpotential\u001b[0m \u001b[0mraises\u001b[0m\u001b[0;34m.\u001b[0m\u001b[0;34m\u001b[0m\u001b[0;34m\u001b[0m\u001b[0m\n\u001b[1;32m    221\u001b[0m         \"\"\"\n\u001b[0;32m--> 222\u001b[0;31m         self.handles = get_handle(\n\u001b[0m\u001b[1;32m    223\u001b[0m             \u001b[0msrc\u001b[0m\u001b[0;34m,\u001b[0m\u001b[0;34m\u001b[0m\u001b[0;34m\u001b[0m\u001b[0m\n\u001b[1;32m    224\u001b[0m             \u001b[0;34m\"r\"\u001b[0m\u001b[0;34m,\u001b[0m\u001b[0;34m\u001b[0m\u001b[0;34m\u001b[0m\u001b[0m\n",
      "\u001b[0;32m~/.local/lib/python3.8/site-packages/pandas/io/common.py\u001b[0m in \u001b[0;36mget_handle\u001b[0;34m(path_or_buf, mode, encoding, compression, memory_map, is_text, errors, storage_options)\u001b[0m\n\u001b[1;32m    700\u001b[0m         \u001b[0;32mif\u001b[0m \u001b[0mioargs\u001b[0m\u001b[0;34m.\u001b[0m\u001b[0mencoding\u001b[0m \u001b[0;32mand\u001b[0m \u001b[0;34m\"b\"\u001b[0m \u001b[0;32mnot\u001b[0m \u001b[0;32min\u001b[0m \u001b[0mioargs\u001b[0m\u001b[0;34m.\u001b[0m\u001b[0mmode\u001b[0m\u001b[0;34m:\u001b[0m\u001b[0;34m\u001b[0m\u001b[0;34m\u001b[0m\u001b[0m\n\u001b[1;32m    701\u001b[0m             \u001b[0;31m# Encoding\u001b[0m\u001b[0;34m\u001b[0m\u001b[0;34m\u001b[0m\u001b[0;34m\u001b[0m\u001b[0m\n\u001b[0;32m--> 702\u001b[0;31m             handle = open(\n\u001b[0m\u001b[1;32m    703\u001b[0m                 \u001b[0mhandle\u001b[0m\u001b[0;34m,\u001b[0m\u001b[0;34m\u001b[0m\u001b[0;34m\u001b[0m\u001b[0m\n\u001b[1;32m    704\u001b[0m                 \u001b[0mioargs\u001b[0m\u001b[0;34m.\u001b[0m\u001b[0mmode\u001b[0m\u001b[0;34m,\u001b[0m\u001b[0;34m\u001b[0m\u001b[0;34m\u001b[0m\u001b[0m\n",
      "\u001b[0;31mFileNotFoundError\u001b[0m: [Errno 2] No such file or directory: 'images.csv'"
     ]
    }
   ],
   "source": [
    "# prepare pd.Series with paths to images\n",
    "image_paths = pd.read_csv(\"images.csv\")\n",
    "\n",
    "# \"height\" and \"width\" are original image size, let's select\n",
    "# only large ones - they are probably more interesting\n",
    "mask = (image_paths[\"height\"] >= 1000) & (image_paths[\"width\"] >= 1000)\n",
    "image_paths = image_paths.loc[mask, :]\n",
    "\n",
    "# remove columns, leaving only pd.Series with paths\n",
    "image_paths = image_paths[\"path\"]\n",
    "image_paths = \"images/small/\" + image_paths.astype(str)\n",
    "\n",
    "image_paths"
   ]
  },
  {
   "cell_type": "code",
   "execution_count": null,
   "metadata": {},
   "outputs": [],
   "source": [
    "from itertools import islice\n",
    "\n",
    "import joblib\n",
    "import torch\n",
    "from PIL import Image\n",
    "from sentence_transformers import SentenceTransformer\n",
    "from tqdm.notebook import tqdm\n",
    "\n",
    "\n",
    "MAX_IMAGES = 10000\n",
    "BATCH_SIZE = joblib.cpu_count(only_physical_cores=True)\n",
    "\n",
    "\n",
    "def vectorize_images(\n",
    "    image_paths: pd.Series\n",
    ") -> np.ndarray:\n",
    "    device = \"cuda\" if torch.cuda.is_available() else \"cpu\"\n",
    "    model = SentenceTransformer(\"clip-ViT-B-32\", device=device)\n",
    "    \n",
    "    # batch iterator, based on Python itertools example\n",
    "    def batched(iterable, n: int):\n",
    "        it = iter(iterable)\n",
    "        while (batch := tuple(islice(it, n))):\n",
    "            yield batch\n",
    "    \n",
    "    # CLIP embeddings have 512 dimensions\n",
    "    embeddings = np.empty((MAX_IMAGES, 512))\n",
    "    \n",
    "    # iterate with tqdm, it will give us a nice progress bar\n",
    "    with tqdm(total=MAX_IMAGES) as pbar:\n",
    "        start_idx = 0\n",
    "        for batch in batched(image_paths.iloc[:MAX_IMAGES], BATCH_SIZE):\n",
    "            # update end_idx; remember to stop at MAX_IMAGES!\n",
    "            \n",
    "\n",
    "            # load images with Image.open()\n",
    "            \n",
    "            \n",
    "            # calculate embeddings\n",
    "            \n",
    "\n",
    "            # save embeddings in the embeddings array\n",
    "            \n",
    "            \n",
    "            # update start_idx\n",
    "            \n",
    "\n",
    "            pbar.update(BATCH_SIZE)\n",
    "    \n",
    "    return embeddings\n"
   ]
  },
  {
   "cell_type": "code",
   "execution_count": null,
   "metadata": {},
   "outputs": [],
   "source": [
    "embeddings = vectorize_images(image_paths)"
   ]
  },
  {
   "cell_type": "code",
   "execution_count": null,
   "metadata": {},
   "outputs": [],
   "source": [
    "from pynndescent import NNDescent\n",
    "\n",
    "\n",
    "class ImageSearch:\n",
    "    def __init__(self, image_paths: pd.Series, embeddings: np.ndarray):\n",
    "        # change to Numpy array to avoid .iloc[] and just index with []\n",
    "        self.image_paths = image_paths.values\n",
    "        \n",
    "        device = \"cuda\" if torch.cuda.is_available() else \"cpu\"\n",
    "        self.model = SentenceTransformer(\"clip-ViT-B-32\", device=device)\n",
    "        \n",
    "        # create PyNNDescent index\n",
    "        self.index = ...\n",
    "\n",
    "    def search(self, text: str, n_neighbors: int = 9) -> None:\n",
    "        image_paths = self.query(text, n_neighbors)\n",
    "        self.show(image_paths)\n",
    "        \n",
    "    def query(self, text: str, n_neighbors: int = 9) -> list[str]:\n",
    "        ...\n",
    "\n",
    "    def show(self, image_paths: list[str]) -> None:\n",
    "        ...\n"
   ]
  },
  {
   "cell_type": "code",
   "execution_count": null,
   "metadata": {},
   "outputs": [],
   "source": [
    "image_search = ImageSearch(image_paths, embeddings)"
   ]
  },
  {
   "cell_type": "code",
   "execution_count": null,
   "metadata": {},
   "outputs": [],
   "source": [
    "image_search.search(\"blue pillow\")"
   ]
  },
  {
   "cell_type": "markdown",
   "metadata": {},
   "source": [
    "// skomentuj tutaj"
   ]
  },
  {
   "cell_type": "code",
   "execution_count": null,
   "metadata": {},
   "outputs": [],
   "source": []
  },
  {
   "cell_type": "markdown",
   "metadata": {},
   "source": [
    "## Zadanie dodatkowe (3 punkty)\n",
    "\n",
    "Zapoznaj się z algorytmem [Condensed Nearest Neighbors](https://en.wikipedia.org/wiki/K-nearest_neighbors_algorithm#Condensed_Nearest_Neighbor_for_data_reduction) . Jest to algorytm typu **training set reduction**, który zmniejsza rozmiar zbioru treningowego do klasyfikacji, usuwając z niego \"trywialne\" próbki. Idea jest tutaj taka, że znaczenie mają zasadniczo tylko przykłady blisko granicy decyzyjnej, a te daleko od niej są oczywiste i można by tam ograniczyć liczbę próbek, przyspieszając algorytmy najbliższych sąsiadów.\n",
    "\n",
    "Zaimplementuj algorytm Condensed Nearest Neighbors w postaci klasy kompatybilnej ze Scikit-learn, z metodami `.fit()` oraz `.transform()`. Wejściem powinny być macierz X oraz wektor y, a wyjściem zredukowane macierze, ograniczone tylko do interesujących próbek. Niestety ten algorytm jest czuły na kolejność przetwarzania próbek, dlatego ma element losowy - zaimplementuj argument `random_state` w konstruktorze i go użyj do przemieszania losowo zbioru (mogą się przydać generatory losowe z Numpy'a). Dodatkowo konstruktor powinien przyjmować argument `metric` (analogicznie do `KNeighborsClassifier`) i wykorzystywać daną metrykę jako sposób pomiaru odległości.\n",
    "\n",
    "Przetestuj algorytm na obu zbiorach używanych w tym laboratorium:\n",
    "1. Sprawdź, o ile próbek udało się zredukować zbiory treningowe.\n",
    "3. Porównaj szybkość treningu, szybkość predykcji oraz jakość wyników. Zmierz też czas wykonywania samego algorytmu Condensed Nearest Neighbors.\n",
    "4. Skomentuj, czy twoim zdaniem warto korzystać z takiego rozwiązania.\n",
    "\n",
    "Przydatne źródła:\n",
    "- [dykusja na DataScience Stack Exchange](https://datascience.stackexchange.com/questions/47097/proper-understanding-of-condensed-nearest-neighbor)\n",
    "- [prezentacja University of Leicester o kNN i CNN](http://www.math.le.ac.uk/people/ag153/homepage/KNN/OliverKNN_Presentation.pdf)\n",
    "\n",
    "Dla zainteresowanych polecam artykuły naukowe:\n",
    "\n",
    "Hart, Peter. *\"The condensed nearest neighbor rule (corresp.).\"* IEEE transactions on information theory 14.3 (1968): 515-516. [link](https://citeseerx.ist.psu.edu/document?repid=rep1&type=pdf&doi=7c3771fd6829630cf450af853df728ecd8da4ab2)\n",
    "\n",
    "Angiulli, Fabrizio. *\"Fast condensed nearest neighbor rule.\"* Proceedings of the 22nd international conference on Machine learning. 2005. [link](https://icml.cc/Conferences/2005/proceedings/papers/004_Fast_Angiulli.pdf)\n"
   ]
  },
  {
   "cell_type": "code",
   "execution_count": null,
   "metadata": {},
   "outputs": [],
   "source": []
  }
 ],
 "metadata": {
  "kernelspec": {
   "display_name": "Python 3 (ipykernel)",
   "language": "python",
   "name": "python3"
  },
  "language_info": {
   "codemirror_mode": {
    "name": "ipython",
    "version": 3
   },
   "file_extension": ".py",
   "mimetype": "text/x-python",
   "name": "python",
   "nbconvert_exporter": "python",
   "pygments_lexer": "ipython3",
   "version": "3.8.10"
  }
 },
 "nbformat": 4,
 "nbformat_minor": 1
}
